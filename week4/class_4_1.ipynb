{
 "cells": [
  {
   "cell_type": "markdown",
   "metadata": {},
   "source": [
    "## Let's collect some data\n",
    "\n",
    "- Anxiety and exam performance​\n",
    "\n",
    "- Participants:​\n",
    "\n",
    "    - you!\n",
    "\n",
    "- Measures​\n",
    "\n",
    "    - Time spent revising (hours)​\n",
    "\n",
    "    - Exam performance (%)​\n",
    "\n",
    "    - Exam anxiety (1 to 100)\n",
    "\n",
    "    - Sex (M/F)\n",
    "\n",
    "\n",
    "Let's collect this data! \n",
    "\n",
    "\n",
    "https://londoninterdisciplinary-my.sharepoint.com/:x:/g/personal/niccolo_pescetelli_lis_ac_uk/EQgM6t2VqFRNp-dBPar39usBk-uv9z2LfzL5xbhxMiZXgA?e=awaicW\n"
   ]
  },
  {
   "cell_type": "code",
   "execution_count": 7,
   "metadata": {},
   "outputs": [],
   "source": [
    "import pandas as pd\n",
    "import numpy as np\n",
    "import matplotlib.pyplot as plt\n",
    "import seaborn as sns"
   ]
  },
  {
   "cell_type": "code",
   "execution_count": 40,
   "metadata": {},
   "outputs": [
    {
     "data": {
      "text/html": [
       "<div>\n",
       "<style scoped>\n",
       "    .dataframe tbody tr th:only-of-type {\n",
       "        vertical-align: middle;\n",
       "    }\n",
       "\n",
       "    .dataframe tbody tr th {\n",
       "        vertical-align: top;\n",
       "    }\n",
       "\n",
       "    .dataframe thead th {\n",
       "        text-align: right;\n",
       "    }\n",
       "</style>\n",
       "<table border=\"1\" class=\"dataframe\">\n",
       "  <thead>\n",
       "    <tr style=\"text-align: right;\">\n",
       "      <th></th>\n",
       "      <th>Revise</th>\n",
       "      <th>Exam</th>\n",
       "      <th>Anxiety</th>\n",
       "      <th>Gender</th>\n",
       "    </tr>\n",
       "    <tr>\n",
       "      <th>Code</th>\n",
       "      <th></th>\n",
       "      <th></th>\n",
       "      <th></th>\n",
       "      <th></th>\n",
       "    </tr>\n",
       "  </thead>\n",
       "  <tbody>\n",
       "    <tr>\n",
       "      <th>1</th>\n",
       "      <td>4</td>\n",
       "      <td>40</td>\n",
       "      <td>86.298</td>\n",
       "      <td>Male</td>\n",
       "    </tr>\n",
       "    <tr>\n",
       "      <th>2</th>\n",
       "      <td>11</td>\n",
       "      <td>65</td>\n",
       "      <td>88.716</td>\n",
       "      <td>Female</td>\n",
       "    </tr>\n",
       "    <tr>\n",
       "      <th>3</th>\n",
       "      <td>27</td>\n",
       "      <td>80</td>\n",
       "      <td>70.178</td>\n",
       "      <td>Male</td>\n",
       "    </tr>\n",
       "    <tr>\n",
       "      <th>4</th>\n",
       "      <td>53</td>\n",
       "      <td>80</td>\n",
       "      <td>61.312</td>\n",
       "      <td>Male</td>\n",
       "    </tr>\n",
       "    <tr>\n",
       "      <th>5</th>\n",
       "      <td>4</td>\n",
       "      <td>40</td>\n",
       "      <td>89.522</td>\n",
       "      <td>Male</td>\n",
       "    </tr>\n",
       "    <tr>\n",
       "      <th>6</th>\n",
       "      <td>22</td>\n",
       "      <td>70</td>\n",
       "      <td>60.506</td>\n",
       "      <td>Female</td>\n",
       "    </tr>\n",
       "    <tr>\n",
       "      <th>7</th>\n",
       "      <td>16</td>\n",
       "      <td>20</td>\n",
       "      <td>81.462</td>\n",
       "      <td>Female</td>\n",
       "    </tr>\n",
       "    <tr>\n",
       "      <th>8</th>\n",
       "      <td>21</td>\n",
       "      <td>55</td>\n",
       "      <td>75.820</td>\n",
       "      <td>Female</td>\n",
       "    </tr>\n",
       "    <tr>\n",
       "      <th>9</th>\n",
       "      <td>25</td>\n",
       "      <td>50</td>\n",
       "      <td>69.372</td>\n",
       "      <td>Female</td>\n",
       "    </tr>\n",
       "    <tr>\n",
       "      <th>10</th>\n",
       "      <td>18</td>\n",
       "      <td>40</td>\n",
       "      <td>82.268</td>\n",
       "      <td>Female</td>\n",
       "    </tr>\n",
       "  </tbody>\n",
       "</table>\n",
       "</div>"
      ],
      "text/plain": [
       "      Revise  Exam  Anxiety  Gender\n",
       "Code                               \n",
       "1          4    40   86.298    Male\n",
       "2         11    65   88.716  Female\n",
       "3         27    80   70.178    Male\n",
       "4         53    80   61.312    Male\n",
       "5          4    40   89.522    Male\n",
       "6         22    70   60.506  Female\n",
       "7         16    20   81.462  Female\n",
       "8         21    55   75.820  Female\n",
       "9         25    50   69.372  Female\n",
       "10        18    40   82.268  Female"
      ]
     },
     "execution_count": 40,
     "metadata": {},
     "output_type": "execute_result"
    }
   ],
   "source": [
    "# read in the data\n",
    "examData = pd.read_csv('/Users/olisa/Lis/data_sci/week4/Data/Exam Anxiety.txt', index_col=0, delimiter='\\t')\n",
    "examData.head(10)"
   ]
  },
  {
   "cell_type": "code",
   "execution_count": 41,
   "metadata": {},
   "outputs": [
    {
     "name": "stdout",
     "output_type": "stream",
     "text": [
      "Index(['Time spent revising', 'Exam performance', 'Anxiety level', 'Sex'], dtype='object')\n"
     ]
    }
   ],
   "source": [
    "\n",
    "\n",
    "examData.rename(columns={'Revise': 'Time spent revising', 'Exam': 'Exam performance', 'Anxiety' : 'Anxiety level', 'Gender' : 'Sex', }, inplace=True)\n",
    "print(examData.columns)\n",
    "\n"
   ]
  },
  {
   "cell_type": "markdown",
   "metadata": {},
   "source": [
    "Let's visualise the distribution of Anxiety level and Exam performance. We plot the x and y into two separate plots."
   ]
  },
  {
   "cell_type": "code",
   "execution_count": 42,
   "metadata": {},
   "outputs": [
    {
     "ename": "IndexError",
     "evalue": "list index out of range",
     "output_type": "error",
     "traceback": [
      "\u001b[0;31m---------------------------------------------------------------------------\u001b[0m",
      "\u001b[0;31mIndexError\u001b[0m                                Traceback (most recent call last)",
      "Cell \u001b[0;32mIn[42], line 15\u001b[0m\n\u001b[1;32m     12\u001b[0m colors1 \u001b[38;5;241m=\u001b[39m [\u001b[38;5;124m'\u001b[39m\u001b[38;5;124mgreen\u001b[39m\u001b[38;5;124m'\u001b[39m \u001b[38;5;28;01mif\u001b[39;00m y1[i] \u001b[38;5;241m>\u001b[39m np\u001b[38;5;241m.\u001b[39mmean(y1) \u001b[38;5;28;01melse\u001b[39;00m \u001b[38;5;124m'\u001b[39m\u001b[38;5;124mred\u001b[39m\u001b[38;5;124m'\u001b[39m \u001b[38;5;28;01mfor\u001b[39;00m i \u001b[38;5;129;01min\u001b[39;00m x]\n\u001b[1;32m     14\u001b[0m \u001b[38;5;28;01mfor\u001b[39;00m i \u001b[38;5;129;01min\u001b[39;00m x:\n\u001b[0;32m---> 15\u001b[0m     axes[\u001b[38;5;241m0\u001b[39m]\u001b[38;5;241m.\u001b[39mplot([i, i], [y1[i], np\u001b[38;5;241m.\u001b[39mmean(y1)], color\u001b[38;5;241m=\u001b[39m\u001b[43mcolors1\u001b[49m\u001b[43m[\u001b[49m\u001b[43mi\u001b[49m\u001b[43m]\u001b[49m, linestyle\u001b[38;5;241m=\u001b[39m\u001b[38;5;124m'\u001b[39m\u001b[38;5;124m--\u001b[39m\u001b[38;5;124m'\u001b[39m)\n\u001b[1;32m     17\u001b[0m axes[\u001b[38;5;241m1\u001b[39m]\u001b[38;5;241m.\u001b[39mscatter(x, y2)\n\u001b[1;32m     18\u001b[0m axes[\u001b[38;5;241m1\u001b[39m]\u001b[38;5;241m.\u001b[39maxhline(np\u001b[38;5;241m.\u001b[39mmean(y2), color\u001b[38;5;241m=\u001b[39m\u001b[38;5;124m'\u001b[39m\u001b[38;5;124mred\u001b[39m\u001b[38;5;124m'\u001b[39m, linestyle\u001b[38;5;241m=\u001b[39m\u001b[38;5;124m'\u001b[39m\u001b[38;5;124m-\u001b[39m\u001b[38;5;124m'\u001b[39m)\n",
      "\u001b[0;31mIndexError\u001b[0m: list index out of range"
     ]
    },
    {
     "data": {
      "image/png": "[encoded data removed]",
      "text/plain": [
       "<Figure size 1200x600 with 2 Axes>"
      ]
     },
     "metadata": {},
     "output_type": "display_data"
    }
   ],
   "source": [
    "# Create subplots\n",
    "fig, axes = plt.subplots(2, 1, figsize=(12, 6))\n",
    "\n",
    "x = examData.index\n",
    "y1=examData['Anxiety level']\n",
    "y2=examData['Exam performance']\n",
    "\n",
    "axes[0].scatter(x, y1)\n",
    "axes[0].axhline(np.mean(y1), color='red', linestyle='-')\n",
    "axes[0].set_ylabel('Anxiety level')\n",
    "axes[0].set_xlabel('observations')\n",
    "colors1 = ['green' if y1[i] > np.mean(y1) else 'red' for i in x]\n",
    "\n",
    "for i in x:\n",
    "    axes[0].plot([i, i], [y1[i], np.mean(y1)], color=colors1[i], linestyle='--')\n",
    "\n",
    "axes[1].scatter(x, y2)\n",
    "axes[1].axhline(np.mean(y2), color='red', linestyle='-')\n",
    "axes[1].set_ylabel('Exam performance')\n",
    "axes[1].set_xlabel('observations')\n",
    "colors2 = ['green' if y2[i] > np.mean(y2) else 'red' for i in x]\n",
    "\n",
    "for i in x:\n",
    "    axes[1].plot([i, i], [y2[i], np.mean(y2)], color=colors2[i], linestyle='--')\n",
    "\n"
   ]
  },
  {
   "cell_type": "markdown",
   "metadata": {},
   "source": [
    "Now, let's plot the two variables on a scatterplot, with the mean of each variable superimposed"
   ]
  },
  {
   "cell_type": "code",
   "execution_count": 43,
   "metadata": {},
   "outputs": [
    {
     "data": {
      "text/plain": [
       "<matplotlib.lines.Line2D at 0x175a28aa0>"
      ]
     },
     "execution_count": 43,
     "metadata": {},
     "output_type": "execute_result"
    },
    {
     "data": {
      "image/png": "[encoded data removed]",
      "text/plain": [
       "<Figure size 640x480 with 1 Axes>"
      ]
     },
     "metadata": {},
     "output_type": "display_data"
    }
   ],
   "source": [
    "sns.scatterplot(data=examData, x='Anxiety level', y='Exam performance')\n",
    "plt.axvline(np.mean(examData['Anxiety level']), color='red')\n",
    "plt.axhline(np.mean(examData['Exam performance']), color='red', linestyle='--')"
   ]
  },
  {
   "cell_type": "markdown",
   "metadata": {},
   "source": [
    "## How to build a correlation coefficient from scratch\n",
    "Think of the following: \n",
    "- Where are the data points distributed in a positive correlation? \n",
    "- Where are the data points distributed in a negative correlation? \n",
    "- How can we capture this relationship with a number?"
   ]
  },
  {
   "cell_type": "markdown",
   "metadata": {},
   "source": [
    "Let's start from the definition of covariance: \n",
    "$$\\sigma^2 = \\frac{\\sum{(x_i - \\bar{x})^2}}{N-1}$$ \n",
    "\n",
    "How would you implement this definition in computational terms?"
   ]
  },
  {
   "cell_type": "code",
   "execution_count": 44,
   "metadata": {},
   "outputs": [
    {
     "name": "stdout",
     "output_type": "stream",
     "text": [
      "Variance of X: 2.5\n"
     ]
    }
   ],
   "source": [
    "import numpy as np\n",
    "\n",
    "def variance(X):\n",
    "    \"\"\"\n",
    "    Compute the variance of a dataset X.\n",
    "    \n",
    "    Parameters:\n",
    "    X (list or np.ndarray): Dataset.\n",
    "    \n",
    "    Returns:\n",
    "    float: Variance of X.\n",
    "    \"\"\"\n",
    "    # Calculate the mean of X\n",
    "    mean_X = np.mean(X)\n",
    "    \n",
    "    # Compute the deviations from the mean\n",
    "    deviations = X - mean_X\n",
    "    \n",
    "    # Compute the variance\n",
    "    variance_value = np.sum(deviations ** 2) / (len(X) - 1)\n",
    "    \n",
    "    return variance_value\n",
    "\n",
    "# Example \n",
    "X = np.array([1, 2, 3, 4, 5])\n",
    "\n",
    "var_value = variance(X)\n",
    "print(f\"Variance of X: {var_value}\")"
   ]
  },
  {
   "cell_type": "markdown",
   "metadata": {},
   "source": [
    "Can you modify the code above to compute the co-variance? \n",
    "Remember, the formula of the covariance is: \n",
    "\n",
    "$$cov(x,y) = \\frac{\\sum{(x_i - \\bar{x})(y_i - \\bar{y})}}{N-1}$$ "
   ]
  },
  {
   "cell_type": "code",
   "execution_count": 49,
   "metadata": {},
   "outputs": [
    {
     "name": "stdout",
     "output_type": "stream",
     "text": [
      "Covariance between X and Y: 186.87835522558538\n"
     ]
    }
   ],
   "source": [
    "def covariance(X, Y):\n",
    "    \"\"\"\n",
    "    Compute the covariance between two datasets X and Y.\n",
    "    \n",
    "    Parameters:\n",
    "    X (list or np.ndarray): First dataset.\n",
    "    Y (list or np.ndarray): Second dataset.\n",
    "    \n",
    "    Returns:\n",
    "    float: Covariance between X and Y.\n",
    "    \"\"\"\n",
    "    # Ensure X and Y have the same length\n",
    "    if len(X) != len(Y):\n",
    "        raise ValueError(\"Datasets X and Y must have the same length\")\n",
    "    \n",
    "    # Calculate the means of X and Y\n",
    "    mean_X = np.mean(X)\n",
    "    mean_Y = np.mean(Y)\n",
    "    \n",
    "    # Compute the deviations from the mean\n",
    "    deviations_X = X - mean_X\n",
    "    deviations_Y = Y - mean_Y\n",
    "    \n",
    "    # Compute the covariance\n",
    "    covariance_value = np.sum(deviations_X * deviations_Y) / (len(X) - 1)\n",
    "    \n",
    "    return covariance_value\n",
    "\n",
    "# Example usage\n",
    "X = examData['Time spent revising']\n",
    "Y = examData['Exam performance']\n",
    "\n",
    "cov_value = covariance(X, Y)\n",
    "print(f\"Covariance between X and Y: {cov_value}\")"
   ]
  },
  {
   "cell_type": "markdown",
   "metadata": {},
   "source": [
    "## Standardisation and correlation coefficient\n",
    "There are some problems with the covariance. \n",
    "1. It depends upon the units of measurement.\n",
    "E.g. the covariance of two variables measured in miles might be 4.25, but if the same scores are converted to kilometres, the covariance is 11.\n",
    "\n",
    "\n",
    "One solution is to standardise it! To do that, we divide the covariance by the standard deviations of both variables:\n",
    "\n",
    "$$\n",
    "r = \\frac{cov(x,y)}{s_xs_y} = \\frac{\\sum{(x_i - \\bar{x})(y_i - \\bar{y})}}{(N-1)s_xs_y}\n",
    "$$\n",
    "\n",
    "The standardised version of covariance is known as the _correlation coefficient_.\n",
    "\n",
    "The correlation coefficient r (a.k.a, Pearson's r) is (relatively) unaffected by units of measurement.\n",
    "\n",
    "\n"
   ]
  },
  {
   "cell_type": "code",
   "execution_count": 22,
   "metadata": {},
   "outputs": [],
   "source": [
    "def pearson_correlation(X, Y):\n",
    "    \"\"\"\n",
    "    Compute the Pearson correlation coefficient between two datasets X and Y.\n",
    "    \n",
    "    Parameters:\n",
    "    X (list or np.ndarray): First dataset.\n",
    "    Y (list or np.ndarray): Second dataset.\n",
    "    \n",
    "    Returns:\n",
    "    float: Pearson correlation coefficient between X and Y.\n",
    "    \"\"\"\n",
    "    # Compute the covariance between X and Y\n",
    "    cov_XY = covariance(X, Y)\n",
    "    \n",
    "    # Compute the standard deviations of X and Y\n",
    "    std_X = np.sqrt(variance(X))\n",
    "    std_Y = np.sqrt(variance(Y))\n",
    "    \n",
    "    # Compute the Pearson correlation coefficient\n",
    "    r = cov_XY / (std_X * std_Y)\n",
    "    \n",
    "    return r"
   ]
  },
  {
   "cell_type": "markdown",
   "metadata": {},
   "source": [
    "Luckily for us, we don't need to compute the r correlation coefficient from scratch every time. You can use  ad hoc functions like Numpy's [corrcoef](https://numpy.org/doc/2.0/reference/generated/numpy.corrcoef.html) function."
   ]
  },
  {
   "cell_type": "code",
   "execution_count": 51,
   "metadata": {},
   "outputs": [
    {
     "data": {
      "text/plain": [
       "array([[ 1.        , -0.44099341],\n",
       "       [-0.44099341,  1.        ]])"
      ]
     },
     "execution_count": 51,
     "metadata": {},
     "output_type": "execute_result"
    }
   ],
   "source": [
    "# the correlation matrix between exam performance and anxiety level\n",
    "np.corrcoef(examData['Exam performance'], examData['Anxiety level'])"
   ]
  },
  {
   "cell_type": "markdown",
   "metadata": {},
   "source": [
    "Using corcoef, you can calculate the correlation matrix between any number of variables."
   ]
  },
  {
   "cell_type": "code",
   "execution_count": 52,
   "metadata": {},
   "outputs": [
    {
     "data": {
      "text/plain": [
       "array([[ 1.        , -0.44099341,  0.3967207 ],\n",
       "       [-0.44099341,  1.        , -0.70924926],\n",
       "       [ 0.3967207 , -0.70924926,  1.        ]])"
      ]
     },
     "execution_count": 52,
     "metadata": {},
     "output_type": "execute_result"
    }
   ],
   "source": [
    "np.corrcoef(examData.loc[:,['Exam performance', 'Anxiety level', 'Time spent revising']], rowvar=False)"
   ]
  },
  {
   "cell_type": "markdown",
   "metadata": {},
   "source": [
    "### Exercise 1: Exploring Bivariate Correlation\n",
    "\n",
    "You will now do some exercises on the correlation between exam performance, anxiety level and revision time, using a larger dataset. We are interested in understanding the relationship between anxiety and exam performance​. \n",
    "\n",
    "Participants:​\n",
    "\n",
    "- 103 students​\n",
    "\n",
    "Measures​\n",
    "\n",
    "- Time spent revising (hours)​\n",
    "\n",
    "- Exam performance (%)​\n",
    "\n",
    "- Exam Anxiety (the EAQ, score out of 100)​\n",
    "\n",
    "- Gender​"
   ]
  },
  {
   "cell_type": "code",
   "execution_count": 53,
   "metadata": {},
   "outputs": [
    {
     "data": {
      "text/html": [
       "<div>\n",
       "<style scoped>\n",
       "    .dataframe tbody tr th:only-of-type {\n",
       "        vertical-align: middle;\n",
       "    }\n",
       "\n",
       "    .dataframe tbody tr th {\n",
       "        vertical-align: top;\n",
       "    }\n",
       "\n",
       "    .dataframe thead th {\n",
       "        text-align: right;\n",
       "    }\n",
       "</style>\n",
       "<table border=\"1\" class=\"dataframe\">\n",
       "  <thead>\n",
       "    <tr style=\"text-align: right;\">\n",
       "      <th></th>\n",
       "      <th>Code</th>\n",
       "      <th>Revise</th>\n",
       "      <th>Exam</th>\n",
       "      <th>Anxiety</th>\n",
       "      <th>Gender</th>\n",
       "    </tr>\n",
       "  </thead>\n",
       "  <tbody>\n",
       "    <tr>\n",
       "      <th>0</th>\n",
       "      <td>1</td>\n",
       "      <td>4</td>\n",
       "      <td>40</td>\n",
       "      <td>86.298</td>\n",
       "      <td>Male</td>\n",
       "    </tr>\n",
       "    <tr>\n",
       "      <th>1</th>\n",
       "      <td>2</td>\n",
       "      <td>11</td>\n",
       "      <td>65</td>\n",
       "      <td>88.716</td>\n",
       "      <td>Female</td>\n",
       "    </tr>\n",
       "    <tr>\n",
       "      <th>2</th>\n",
       "      <td>3</td>\n",
       "      <td>27</td>\n",
       "      <td>80</td>\n",
       "      <td>70.178</td>\n",
       "      <td>Male</td>\n",
       "    </tr>\n",
       "    <tr>\n",
       "      <th>3</th>\n",
       "      <td>4</td>\n",
       "      <td>53</td>\n",
       "      <td>80</td>\n",
       "      <td>61.312</td>\n",
       "      <td>Male</td>\n",
       "    </tr>\n",
       "    <tr>\n",
       "      <th>4</th>\n",
       "      <td>5</td>\n",
       "      <td>4</td>\n",
       "      <td>40</td>\n",
       "      <td>89.522</td>\n",
       "      <td>Male</td>\n",
       "    </tr>\n",
       "  </tbody>\n",
       "</table>\n",
       "</div>"
      ],
      "text/plain": [
       "   Code  Revise  Exam  Anxiety  Gender\n",
       "0     1       4    40   86.298    Male\n",
       "1     2      11    65   88.716  Female\n",
       "2     3      27    80   70.178    Male\n",
       "3     4      53    80   61.312    Male\n",
       "4     5       4    40   89.522    Male"
      ]
     },
     "execution_count": 53,
     "metadata": {},
     "output_type": "execute_result"
    }
   ],
   "source": [
    "# Load the Exam Anxiety dataset. \n",
    "df = pd.read_csv('./data/Exam Anxiety.txt', delimiter='\\t') # use tab instead of a comma as delimiter\n",
    "df.head()"
   ]
  },
  {
   "cell_type": "code",
   "execution_count": 54,
   "metadata": {},
   "outputs": [
    {
     "data": {
      "text/plain": [
       "array([[ 1.        , -0.44099341,  0.3967207 ],\n",
       "       [-0.44099341,  1.        , -0.70924926],\n",
       "       [ 0.3967207 , -0.70924926,  1.        ]])"
      ]
     },
     "execution_count": 54,
     "metadata": {},
     "output_type": "execute_result"
    }
   ],
   "source": [
    "# compute the correlation matrix between the Exam, Anxiety, and Revise columns\n",
    "np.corrcoef(examData.loc[:,['Exam performance', 'Anxiety level', 'Time spent revising']], rowvar=False)"
   ]
  },
  {
   "cell_type": "markdown",
   "metadata": {},
   "source": [
    "A correlation matrix simply tells you the correlation coefficient between pairs of variables. It does not tell you whether the correlation is statistically significant. \n",
    "\n",
    "To know this, we need to do a correlation _test_. For that, we will use the [pearsonr](https://docs.scipy.org/doc/scipy/reference/generated/scipy.stats.pearsonr.html) function from the scipy.stats library. "
   ]
  },
  {
   "cell_type": "code",
   "execution_count": 55,
   "metadata": {},
   "outputs": [
    {
     "data": {
      "text/plain": [
       "PearsonRResult(statistic=-0.44099341160878863, pvalue=3.1278727730079566e-06)"
      ]
     },
     "execution_count": 55,
     "metadata": {},
     "output_type": "execute_result"
    }
   ],
   "source": [
    "# run a correlation test between the Exam and Anxiety columns\n",
    "from scipy.stats import pearsonr\n",
    "pearsonr(df['Anxiety'], df['Exam'])"
   ]
  },
  {
   "cell_type": "code",
   "execution_count": null,
   "metadata": {},
   "outputs": [],
   "source": []
  },
  {
   "cell_type": "markdown",
   "metadata": {},
   "source": [
    "\n",
    "1. **Visualizing Correlations**  \n",
    "   - Create scatter plots for each pair of variables with the correlation coefficient displayed on each plot.\n",
    "   - **Question:** Does the visual representation support the correlation values calculated above?\n",
    "\n"
   ]
  },
  {
   "cell_type": "code",
   "execution_count": null,
   "metadata": {},
   "outputs": [],
   "source": []
  },
  {
   "cell_type": "markdown",
   "metadata": {},
   "source": [
    "2. **Calculate Bivariate Correlations**  \n",
    "   - Compute the Pearson correlation between all three pairs of variables:\n",
    "     - Time spent revising and Exam performance.\n",
    "     - Anxiety level and Exam performance.\n",
    "     - Time spent revising and Anxiety level.\n",
    "   - **Question:** Describe any trends you observe. What might these correlations indicate about the relationships between each pair of variables?\n"
   ]
  },
  {
   "cell_type": "code",
   "execution_count": 60,
   "metadata": {},
   "outputs": [
    {
     "name": "stdout",
     "output_type": "stream",
     "text": [
      "0.39672069692675677\n",
      "-0.4409934116087886\n",
      "-0.709249255109869\n"
     ]
    }
   ],
   "source": [
    "# compute the correlation coefficient between two variables of choice in the Exam Anxiety dataset using corrcoef\n",
    "# your code here\n",
    "\n",
    "print(pearson_correlation(df['Revise'], df['Exam']))\n",
    "print(pearson_correlation(df['Anxiety'], df['Exam']))\n",
    "print(pearson_correlation(df['Revise'], df['Anxiety']))\n"
   ]
  },
  {
   "cell_type": "markdown",
   "metadata": {},
   "source": [
    "3. **Correlation by Subgroups**  \n",
    "   - Separate the data by sex (M/F) and re-compute the Pearson correlations for each subgroup.\n",
    "   - **Question:** Compare the correlation values for each subgroup. Are there any notable differences between males and females?\n",
    "\n"
   ]
  },
  {
   "cell_type": "code",
   "execution_count": null,
   "metadata": {},
   "outputs": [],
   "source": []
  },
  {
   "cell_type": "markdown",
   "metadata": {},
   "source": [
    "4. **Compute the coefficient of determination $R^2$**"
   ]
  },
  {
   "cell_type": "code",
   "execution_count": 53,
   "metadata": {},
   "outputs": [],
   "source": [
    "# compute r squared between Exam and Anxiety"
   ]
  },
  {
   "cell_type": "markdown",
   "metadata": {},
   "source": []
  }
 ],
 "metadata": {
  "kernelspec": {
   "display_name": "Python 3",
   "language": "python",
   "name": "python3"
  },
  "language_info": {
   "codemirror_mode": {
    "name": "ipython",
    "version": 3
   },
   "file_extension": ".py",
   "mimetype": "text/x-python",
   "name": "python",
   "nbconvert_exporter": "python",
   "pygments_lexer": "ipython3",
   "version": "3.12.3"
  }
 },
 "nbformat": 4,
 "nbformat_minor": 2
}
