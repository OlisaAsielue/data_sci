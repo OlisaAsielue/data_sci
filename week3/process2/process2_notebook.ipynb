{
 "cells": [
  {
   "cell_type": "markdown",
   "metadata": {},
   "source": [
    "# Welcome to process assessment 2!\n",
    "## Quiz\n",
    "\n",
    "Please answer the following 5 questions.\n"
   ]
  },
  {
   "cell_type": "markdown",
   "metadata": {},
   "source": [
    "### 1. **95% Confidence Intervals**\n",
    "\n",
    "**Question**: What does a 95% confidence interval for a population mean signify?\n",
    "\n",
    "- A) The interval contains 95% of all sample means.\n",
    "- B) The population mean is within the interval with 95% certainty.\n",
    "- C) If we were to take many samples, 95% of the calculated confidence intervals would contain the population mean.\n",
    "- D) There is a 95% probability that any sample mean lies within the interval.\n",
    "\n",
    "**Your answer:** C\n",
    "\n",
    "---\n",
    "\n",
    "### 2. **Standard Errors**\n",
    "\n",
    "**Question**: Which of the following best describes the standard error of the mean?\n",
    "\n",
    "- A) It is the standard deviation of the population.\n",
    "- B) It measures the accuracy with which a sample represents a population.\n",
    "- C) It represents the spread of data within a single sample.\n",
    "- D) It indicates the variability of data points within a sample.\n",
    "\n",
    "**Your answer:** B\n",
    "\n",
    "---\n",
    "\n",
    "### 3. **Sample vs Sampling Distribution**\n",
    "\n",
    "**Question**: What is the difference between a sample distribution and a sampling distribution?\n",
    "\n",
    "- A) A sample distribution is the distribution of observations within a sample, while a sampling distribution is the distribution of a statistic across all possible samples of the same size.\n",
    "- B) A sample distribution is always normal, but a sampling distribution is not.\n",
    "- C) A sampling distribution refers only to the sample's variance, while a sample distribution refers to its mean.\n",
    "- D) There is no difference; they are the same concept.\n",
    "\n",
    "**Your answer:** A\n",
    "\n",
    "---\n",
    "\n",
    "### 4. **Test Statistics**\n",
    "\n",
    "**Question**: Which statement best describes a test statistic?\n",
    "\n",
    "- A) It is a value that represents the average outcome of a hypothesis test.\n",
    "- B) It is a measure that quantifies the difference between observed data and what is expected under the null hypothesis.\n",
    "- C) It always represents the probability that the null hypothesis is true.\n",
    "- D) It is calculated only in one-sample tests.\n",
    "\n",
    "**Your answer:** B\n",
    "\n",
    "---\n",
    "\n",
    "### 5. **P-values**\n",
    "\n",
    "**Question**: What does a p-value of 0.03 indicate in the context of a hypothesis test?\n",
    "\n",
    "- A) There is a 3% chance that the null hypothesis is false.\n",
    "- B) There is a 3% chance that the null hypothesis is true.\n",
    "- C) There is a 3% probability of obtaining results at least as extreme as the observed results, assuming the null hypothesis is true.\n",
    "- D) There is a 97% chance that the observed result is due to random chance.\n",
    "\n",
    "**Your answer:** C\n",
    "\n"
   ]
  },
  {
   "cell_type": "markdown",
   "metadata": {},
   "source": [
    "## Coding \n",
    "In this assessment you will run basic analyses on a mobility dataset. \n",
    "The dataset (provided as Excel and csv file) includes the count of annualised exit/entries through the TfL (Transport for London) transportation system. \n",
    "\n",
    "The content covers the first 3 week of the module. Each Task is worth 1 point (distributed across multiple subtasks)."
   ]
  },
  {
   "cell_type": "code",
   "execution_count": 1,
   "metadata": {},
   "outputs": [],
   "source": [
    "import numpy as np\n",
    "import matplotlib.pyplot as plt\n",
    "import pandas as pd\n",
    "import seaborn as sns"
   ]
  },
  {
   "cell_type": "markdown",
   "metadata": {},
   "source": [
    "## **Task 1. Import and Clean the Data**\n",
    "- Load the dataset using `pandas`.\n",
    "- Remove any non-relevant header rows and ensure columns are correctly labeled for easy analysis.\n",
    "- Handle missing values and ensure data types are appropriate for each column.\n",
    "\n"
   ]
  },
  {
   "cell_type": "code",
   "execution_count": null,
   "metadata": {},
   "outputs": [],
   "source": [
    "# Load the data\n",
    "df = "
   ]
  },
  {
   "cell_type": "code",
   "execution_count": 6,
   "metadata": {},
   "outputs": [],
   "source": [
    "# remove any non-relevant header rows and ensure columns are correctly labeled"
   ]
  },
  {
   "cell_type": "code",
   "execution_count": 7,
   "metadata": {},
   "outputs": [],
   "source": [
    "# Handle missing values and ensure data types are appropriate for each column"
   ]
  },
  {
   "cell_type": "markdown",
   "metadata": {},
   "source": [
    "## **Task 2. Visualise Entry and Exit Counts**\n",
    "- Create visualisations (e.g., bar charts or line graphs) comparing entry and exit counts across different days (typical weekday, Friday, Saturday, and Sunday).\n",
    "- Use these visuals to illustrate how entries and exits vary by day.\n",
    "\n"
   ]
  },
  {
   "cell_type": "code",
   "execution_count": null,
   "metadata": {},
   "outputs": [],
   "source": [
    "# Create visualisations (e.g., bar charts or line graphs) comparing entry and exit counts across different days (typical weekday, Friday, Saturday, and Sunday)."
   ]
  },
  {
   "cell_type": "code",
   "execution_count": null,
   "metadata": {},
   "outputs": [],
   "source": [
    "# Use these visuals to illustrate how entries and exits vary by day."
   ]
  },
  {
   "cell_type": "markdown",
   "metadata": {},
   "source": [
    "## **Task 3. Calculate Descriptive Statistics**\n",
    "- Compute descriptive statistics (mean, median, minimum, maximum) for each day (weekday, Friday, Saturday, Sunday).\n",
    "- Summarize these statistics to provide insights into typical entry/exit behavior patterns."
   ]
  },
  {
   "cell_type": "code",
   "execution_count": null,
   "metadata": {},
   "outputs": [],
   "source": [
    "# Compute descriptive statistics for each day (weekday, Friday, Saturday, Sunday).\n"
   ]
  },
  {
   "cell_type": "markdown",
   "metadata": {},
   "source": [
    "Summarise these statistics to provide insights into typical entry/exit behavior patterns.\n",
    "\n",
    "[Double click to add your answer here]"
   ]
  },
  {
   "cell_type": "markdown",
   "metadata": {},
   "source": [
    "## **Task 4. Calculate Standard Error and Confidence Intervals**\n",
    "- For each day’s entries and exits, calculate the standard error of the mean.\n",
    "- Construct a 95% confidence interval for the mean entry and exit counts across different days.\n"
   ]
  },
  {
   "cell_type": "code",
   "execution_count": 9,
   "metadata": {},
   "outputs": [],
   "source": [
    "# For each day’s entries and exits, calculate the standard error of the mean.\n"
   ]
  },
  {
   "cell_type": "code",
   "execution_count": 10,
   "metadata": {},
   "outputs": [],
   "source": [
    "# Construct a 95% confidence interval for the mean entry and exit counts across different days.\n"
   ]
  },
  {
   "cell_type": "markdown",
   "metadata": {},
   "source": [
    "## **Task 5. Compare Means Using Confidence Intervals**\n",
    "- Using the confidence intervals, compare mean entry/exit counts across different days (e.g., typical weekday vs. Friday).\n",
    "- Interpret whether differences between days are statistically significant based on overlap or separation of the intervals.\n"
   ]
  },
  {
   "cell_type": "code",
   "execution_count": 11,
   "metadata": {},
   "outputs": [],
   "source": [
    "# Using the confidence intervals, compare mean entry/exit counts across different days (e.g., typical weekday vs. Friday)."
   ]
  },
  {
   "cell_type": "code",
   "execution_count": null,
   "metadata": {},
   "outputs": [],
   "source": [
    "# Interpret whether differences between days are statistically significant based on overlap or separation of the intervals."
   ]
  }
 ],
 "metadata": {
  "kernelspec": {
   "display_name": "venv",
   "language": "python",
   "name": "python3"
  },
  "language_info": {
   "codemirror_mode": {
    "name": "ipython",
    "version": 3
   },
   "file_extension": ".py",
   "mimetype": "text/x-python",
   "name": "python",
   "nbconvert_exporter": "python",
   "pygments_lexer": "ipython3",
   "version": "3.12.3"
  }
 },
 "nbformat": 4,
 "nbformat_minor": 2
}
