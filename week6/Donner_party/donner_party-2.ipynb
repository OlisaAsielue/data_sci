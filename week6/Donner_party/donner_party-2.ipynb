{
 "cells": [
  {
   "cell_type": "markdown",
   "metadata": {},
   "source": [
    "# The Donner Party\n",
    "In 1846 the Donner and Reed families left Springfield, Illinois, for  California by covered wagon. In July, the Donner Party, as it  became known, reached Fort Bridger, Wyoming. There its leaders  decided to attempt a new and untested route to the Sacramento  Valley. Having reached its full size of 87 people and 20 wagons, the  party was delayed by a difficult crossing of the Wasatch Range and again in the crossing of the desert west of the Great Salt Lake. The  group became stranded in the eastern Sierra Nevada mountains when the region was hit by heavy snows in late October. By the  time the last survivor was rescued on April 21, 1847, 40 of the 87  members had died from famine and exposure to extreme cold."
   ]
  },
  {
   "cell_type": "code",
   "execution_count": 12,
   "metadata": {},
   "outputs": [
    {
     "ename": "AttributeError",
     "evalue": "partially initialized module 'patsy' has no attribute 'highlevel' (most likely due to a circular import)",
     "output_type": "error",
     "traceback": [
      "\u001b[0;31m---------------------------------------------------------------------------\u001b[0m",
      "\u001b[0;31mAttributeError\u001b[0m                            Traceback (most recent call last)",
      "Cell \u001b[0;32mIn[12], line 1\u001b[0m\n\u001b[0;32m----> 1\u001b[0m \u001b[38;5;28;01mimport\u001b[39;00m \u001b[38;5;21;01mstatsmodels\u001b[39;00m\u001b[38;5;21;01m.\u001b[39;00m\u001b[38;5;21;01mapi\u001b[39;00m \u001b[38;5;28;01mas\u001b[39;00m \u001b[38;5;21;01msm\u001b[39;00m\n\u001b[1;32m      2\u001b[0m \u001b[38;5;28;01mimport\u001b[39;00m \u001b[38;5;21;01mpandas\u001b[39;00m \u001b[38;5;28;01mas\u001b[39;00m \u001b[38;5;21;01mpd\u001b[39;00m\n\u001b[1;32m      3\u001b[0m \u001b[38;5;28;01mimport\u001b[39;00m \u001b[38;5;21;01mnumpy\u001b[39;00m \u001b[38;5;28;01mas\u001b[39;00m \u001b[38;5;21;01mnp\u001b[39;00m\n",
      "File \u001b[0;32m~/Lis/data_sci/venv/lib/python3.12/site-packages/statsmodels/__init__.py:1\u001b[0m\n\u001b[0;32m----> 1\u001b[0m \u001b[38;5;28;01mfrom\u001b[39;00m \u001b[38;5;21;01mstatsmodels\u001b[39;00m\u001b[38;5;21;01m.\u001b[39;00m\u001b[38;5;21;01mcompat\u001b[39;00m\u001b[38;5;21;01m.\u001b[39;00m\u001b[38;5;21;01mpatsy\u001b[39;00m \u001b[38;5;28;01mimport\u001b[39;00m monkey_patch_cat_dtype\n\u001b[1;32m      3\u001b[0m \u001b[38;5;28;01mfrom\u001b[39;00m \u001b[38;5;21;01mstatsmodels\u001b[39;00m\u001b[38;5;21;01m.\u001b[39;00m\u001b[38;5;21;01m_version\u001b[39;00m \u001b[38;5;28;01mimport\u001b[39;00m __version__, __version_tuple__\n\u001b[1;32m      5\u001b[0m __version_info__ \u001b[38;5;241m=\u001b[39m __version_tuple__\n",
      "File \u001b[0;32m~/Lis/data_sci/venv/lib/python3.12/site-packages/statsmodels/compat/patsy.py:4\u001b[0m\n\u001b[1;32m      1\u001b[0m \u001b[38;5;28;01mfrom\u001b[39;00m \u001b[38;5;21;01mstatsmodels\u001b[39;00m\u001b[38;5;21;01m.\u001b[39;00m\u001b[38;5;21;01mcompat\u001b[39;00m\u001b[38;5;21;01m.\u001b[39;00m\u001b[38;5;21;01mpandas\u001b[39;00m \u001b[38;5;28;01mimport\u001b[39;00m PD_LT_2\n\u001b[1;32m      3\u001b[0m \u001b[38;5;28;01mimport\u001b[39;00m \u001b[38;5;21;01mpandas\u001b[39;00m \u001b[38;5;28;01mas\u001b[39;00m \u001b[38;5;21;01mpd\u001b[39;00m\n\u001b[0;32m----> 4\u001b[0m \u001b[38;5;28;01mimport\u001b[39;00m \u001b[38;5;21;01mpatsy\u001b[39;00m\u001b[38;5;21;01m.\u001b[39;00m\u001b[38;5;21;01mutil\u001b[39;00m\n\u001b[1;32m      7\u001b[0m \u001b[38;5;28;01mdef\u001b[39;00m \u001b[38;5;21m_safe_is_pandas_categorical_dtype\u001b[39m(dt):\n\u001b[1;32m      8\u001b[0m     \u001b[38;5;28;01mif\u001b[39;00m PD_LT_2:\n",
      "File \u001b[0;32m~/Lis/data_sci/venv/lib/python3.12/site-packages/patsy/__init__.py:89\u001b[0m\n\u001b[1;32m     85\u001b[0m \u001b[38;5;66;03m# This used to have less copy-paste, but explicit import statements make\u001b[39;00m\n\u001b[1;32m     86\u001b[0m \u001b[38;5;66;03m# packaging tools like py2exe and py2app happier. Sigh.\u001b[39;00m\n\u001b[1;32m     87\u001b[0m \u001b[38;5;28;01mimport\u001b[39;00m \u001b[38;5;21;01mpatsy\u001b[39;00m\u001b[38;5;21;01m.\u001b[39;00m\u001b[38;5;21;01mhighlevel\u001b[39;00m\n\u001b[0;32m---> 89\u001b[0m _reexport(\u001b[43mpatsy\u001b[49m\u001b[38;5;241;43m.\u001b[39;49m\u001b[43mhighlevel\u001b[49m)\n\u001b[1;32m     91\u001b[0m \u001b[38;5;28;01mimport\u001b[39;00m \u001b[38;5;21;01mpatsy\u001b[39;00m\u001b[38;5;21;01m.\u001b[39;00m\u001b[38;5;21;01mbuild\u001b[39;00m\n\u001b[1;32m     93\u001b[0m _reexport(patsy\u001b[38;5;241m.\u001b[39mbuild)\n",
      "\u001b[0;31mAttributeError\u001b[0m: partially initialized module 'patsy' has no attribute 'highlevel' (most likely due to a circular import)"
     ]
    }
   ],
   "source": [
    "import statsmodels.api as sm\n",
    "import pandas as pd\n",
    "import numpy as np\n",
    "import matplotlib.pyplot as plt\n",
    "import seaborn as sns"
   ]
  },
  {
   "cell_type": "markdown",
   "metadata": {},
   "source": [
    "## About this exercise\n",
    "**Exercise set:** Logistic Regression Analysis on Donner Party Survival Rates\n",
    "\n",
    "**Objective:** In this exercise set, you’ll explore survival rates based on various factors, build alternative logistic regression models, and evaluate them using statistical measures.\n"
   ]
  },
  {
   "cell_type": "markdown",
   "metadata": {},
   "source": [
    "---\n",
    "\n",
    "#### Part 1: Exploratory Data Analysis (EDA)\n",
    "\n",
    "> 1. **Breakdown of Survival Rates by Gender**\n",
    ">   - Calculate and compare survival rates for males and females.\n",
    ">   \n",
    ">   *Question*: What are the differences in survival rates between males and females?\n"
   ]
  },
  {
   "cell_type": "code",
   "execution_count": 8,
   "metadata": {},
   "outputs": [
    {
     "ename": "NameError",
     "evalue": "name 'pd' is not defined",
     "output_type": "error",
     "traceback": [
      "\u001b[0;31m---------------------------------------------------------------------------\u001b[0m",
      "\u001b[0;31mNameError\u001b[0m                                 Traceback (most recent call last)",
      "Cell \u001b[0;32mIn[8], line 2\u001b[0m\n\u001b[1;32m      1\u001b[0m \u001b[38;5;66;03m# Import the data\u001b[39;00m\n\u001b[0;32m----> 2\u001b[0m donner \u001b[38;5;241m=\u001b[39m \u001b[43mpd\u001b[49m\u001b[38;5;241m.\u001b[39mread_csv(\u001b[38;5;124m'\u001b[39m\u001b[38;5;124m./data/donner_party.csv\u001b[39m\u001b[38;5;124m'\u001b[39m)\n\u001b[1;32m      4\u001b[0m \u001b[38;5;66;03m# Rename the columns \u001b[39;00m\n\u001b[1;32m      5\u001b[0m donner\u001b[38;5;241m.\u001b[39mcolumns \u001b[38;5;241m=\u001b[39m [\u001b[38;5;124m'\u001b[39m\u001b[38;5;124msurvived\u001b[39m\u001b[38;5;124m'\u001b[39m,\u001b[38;5;124m'\u001b[39m\u001b[38;5;124mname\u001b[39m\u001b[38;5;124m'\u001b[39m,\u001b[38;5;124m'\u001b[39m\u001b[38;5;124msex\u001b[39m\u001b[38;5;124m'\u001b[39m,\u001b[38;5;124m'\u001b[39m\u001b[38;5;124mage\u001b[39m\u001b[38;5;124m'\u001b[39m, \u001b[38;5;124m'\u001b[39m\u001b[38;5;124mstatus\u001b[39m\u001b[38;5;124m'\u001b[39m]\n",
      "\u001b[0;31mNameError\u001b[0m: name 'pd' is not defined"
     ]
    }
   ],
   "source": [
    "# Import the data\n",
    "donner = pd.read_csv('./data/donner_party.csv')\n",
    "\n",
    "# Rename the columns \n",
    "donner.columns = ['survived','name','sex','age', 'status']\n"
   ]
  },
  {
   "cell_type": "code",
   "execution_count": 13,
   "metadata": {},
   "outputs": [],
   "source": [
    "# your code here\n"
   ]
  },
  {
   "cell_type": "markdown",
   "metadata": {},
   "source": [
    "---\n",
    "> 2. **Survival Rates by Age**\n",
    ">    - Divide individuals into age groups (e.g., children, young adults, adults, elderly).\n",
    ">    - Calculate survival rates for each age group.\n",
    "> \n",
    ">    *Question*: How does age correlate with survival? Are there certain age groups with higher or lower survival rates?\n"
   ]
  },
  {
   "cell_type": "code",
   "execution_count": 2,
   "metadata": {},
   "outputs": [],
   "source": [
    "# your code here"
   ]
  },
  {
   "cell_type": "markdown",
   "metadata": {},
   "source": [
    "\n",
    "---\n",
    "> 3. **Survival Rates within Families**\n",
    ">    - Identify family groups in the data based on similar last names (if applicable) or create a family grouping variable.\n",
    ">    - Calculate the survival rate within each family and analyze patterns.\n",
    "> \n",
    ">    *Question*: Do larger families have different survival rates compared to smaller or individual groups?\n"
   ]
  },
  {
   "cell_type": "code",
   "execution_count": 3,
   "metadata": {},
   "outputs": [],
   "source": [
    "# your code here"
   ]
  },
  {
   "cell_type": "markdown",
   "metadata": {},
   "source": [
    "\n",
    "---\n",
    "> 4. **Interaction Between Gender and Age on Survival**\n",
    ">    - Plot survival rates by both gender and age, dividing age into meaningful ranges (such as bins of 10 years).\n",
    ">    - Use box plots or a heat map to visualise survival across these groups.\n",
    "> \n",
    ">    *Question*: Is there an interaction between age and gender that appears to influence survival rates?"
   ]
  },
  {
   "cell_type": "code",
   "execution_count": 4,
   "metadata": {},
   "outputs": [],
   "source": [
    "# your code here"
   ]
  },
  {
   "cell_type": "markdown",
   "metadata": {},
   "source": [
    "\n",
    "---\n",
    "\n",
    "#### Part 2: Logistic Regression Modeling\n",
    "\n",
    "5. **Baseline Model**\n",
    "   - Build an initial logistic regression model using **Age** as the only predictor of survival.\n",
    "\n",
    "   *Question*: What is the log-likelihood and AIC for this model? How do these metrics help evaluate model fit?\n"
   ]
  },
  {
   "cell_type": "code",
   "execution_count": null,
   "metadata": {},
   "outputs": [],
   "source": [
    "# your code here\n",
    "formula_string = ...\n"
   ]
  },
  {
   "cell_type": "code",
   "execution_count": null,
   "metadata": {},
   "outputs": [],
   "source": [
    "# Define a logistic regression model\n",
    "model = sm.formula.logit(formula_string, data=donner)\n",
    "\n",
    "# Fit the model to the data\n",
    "results = model.fit()\n",
    "\n",
    "# Print a model summary table\n",
    "print(results.summary())"
   ]
  },
  {
   "cell_type": "markdown",
   "metadata": {},
   "source": [
    "Now that we have fitted a model to the data, we can use the model parameters to predict the survival rate based on any age, including ages that were not in the original dataset. \n",
    "\n",
    "In fact, we can plot the logistic regression line to visually show the chances of survival for all ages in a range of our choosing.\n",
    "\n",
    "Although the next cell should run for you without issues, it is worth spending 5-10 minutes trying to understand what each line does. Feel free to tweak the code to better understand it. "
   ]
  },
  {
   "cell_type": "code",
   "execution_count": null,
   "metadata": {},
   "outputs": [],
   "source": [
    "# Generate a range of ages\n",
    "age_range = pd.DataFrame({'age': np.linspace(donner['age'].min(), donner['age'].max(), 100)})\n",
    "\n",
    "# Compute the linear predictor (log-odds)\n",
    "log_odds = results.params['Intercept'] + results.params['age'] * age_range\n",
    "\n",
    "# Compute the probabilities using the sigmoid function\n",
    "probabilities = results.predict(age_range)\n",
    "\n",
    "# Plot the model's sigmoid function\n",
    "plt.figure(figsize=(10, 6))\n",
    "plt.plot(age_range, probabilities, label='Logistic fit')\n",
    "plt.xlabel('Age')\n",
    "plt.ylabel('Probability of Not Surviving')\n",
    "plt.title('Negative Sigmoid Function: Survived ~ Age')\n",
    "\n",
    "# Superimpose the actual data points\n",
    "sns.scatterplot(data=donner, x='age', y='survived', style='survived', alpha=0.2)\n",
    "\n",
    "plt.legend()\n",
    "plt.show()"
   ]
  },
  {
   "cell_type": "markdown",
   "metadata": {},
   "source": [
    "\n",
    "---\n",
    "6. **Alternative Model Building**\n",
    "   - Create at least two alternative models by adjusting predictors:\n",
    "     - Model 1: Include **Sex** and **Age** only.\n",
    "     - Model 2: Add an interaction term for **Sex \\* Age**.  \n",
    "     - Model 3: Add **Sex**, **Age**, and **Marital Status** as predictors of survival.\n",
    "\n",
    "   *Questions*:\n",
    "     - What are the AIC and log-likelihood values for each model?\n",
    "     - Based on these metrics, which model appears to provide the best fit?\n",
    "\n",
    "   *Hint:*\n",
    "   Although we have not seen interactions in class, answer the following: \n",
    "   - Do you expect the effect of age on survival to be the same for females and males? \n",
    "   - Refit and plot the model above separately for males and females. What do you see?\n",
    "   - You can come up with new predictors from existing ones. An interaction is a predictor that is obtained by multiplying two predictors together, e.g. $Age * Sex$. When will this new predictor be large? When will it be small? What does a coefficient on this new predictor indicate. \n",
    "   - Once you answer the previous questions, ask your professor. Did your answers match up?\n"
   ]
  },
  {
   "cell_type": "code",
   "execution_count": null,
   "metadata": {},
   "outputs": [],
   "source": [
    "# You code for Model 1\n"
   ]
  },
  {
   "cell_type": "code",
   "execution_count": null,
   "metadata": {},
   "outputs": [],
   "source": [
    "\n",
    "# You code for Model 2\n"
   ]
  },
  {
   "cell_type": "code",
   "execution_count": null,
   "metadata": {},
   "outputs": [],
   "source": [
    "# You code for Model 3\n"
   ]
  },
  {
   "cell_type": "markdown",
   "metadata": {},
   "source": [
    "\n",
    "---\n",
    "7. **Chi-Square Test for Model Comparison**\n",
    "   - Conduct chi-square tests to compare each alternative model with the baseline model.\n",
    "\n",
    "   *Question*: Do any of the alternative models significantly improve upon the baseline? What does this tell you about the influence of added features on survival prediction?\n"
   ]
  },
  {
   "cell_type": "code",
   "execution_count": null,
   "metadata": {},
   "outputs": [],
   "source": [
    "# Your code here\n"
   ]
  },
  {
   "cell_type": "markdown",
   "metadata": {},
   "source": [
    "\n",
    "---\n",
    "8. **Log-Odds Prediction for Specific Individual**\n",
    "   - Using the best-fitting model, calculate the predicted log-odds of survival for a 24-year-old single female.\n",
    "\n",
    "   *Question*: What are the log-odds and corresponding probability of survival for this individual based on the model?\n"
   ]
  },
  {
   "cell_type": "code",
   "execution_count": null,
   "metadata": {},
   "outputs": [],
   "source": [
    "# Your code here"
   ]
  },
  {
   "cell_type": "markdown",
   "metadata": {},
   "source": [
    "\n",
    "---\n",
    "\n",
    "#### Part 3: Model Interpretation and Insights\n",
    "\n",
    "9. **Interpret Coefficients and Log-Odds**\n",
    "   - Interpret the coefficients of the model, especially for significant predictors such as **Sex**, **Age**, and any interaction terms.\n",
    "\n",
    "   *Questions*:\n",
    "     - What does the coefficient for **Sex** imply about survival rates?\n",
    "     - How does the **Age** coefficient impact the survival probability?\n",
    "     - If there’s a significant interaction between **Sex** and **Age**, what does this tell you about survival differences across age and gender?"
   ]
  },
  {
   "cell_type": "code",
   "execution_count": 22,
   "metadata": {},
   "outputs": [],
   "source": [
    "# Your code or comments here"
   ]
  },
  {
   "cell_type": "markdown",
   "metadata": {},
   "source": [
    "\n",
    "---\n",
    "10. **Final Model Selection and Justification**\n",
    "    - Summarise your findings and select the best model based on AIC, log-likelihood, and chi-square results.\n",
    "\n",
    "    *Question*: Which model would you use for explaining survival rates in this historical context, and why?\n"
   ]
  },
  {
   "cell_type": "code",
   "execution_count": null,
   "metadata": {},
   "outputs": [],
   "source": []
  }
 ],
 "metadata": {
  "kernelspec": {
   "display_name": "venv",
   "language": "python",
   "name": "python3"
  },
  "language_info": {
   "codemirror_mode": {
    "name": "ipython",
    "version": 3
   },
   "file_extension": ".py",
   "mimetype": "text/x-python",
   "name": "python",
   "nbconvert_exporter": "python",
   "pygments_lexer": "ipython3",
   "version": "3.12.3"
  }
 },
 "nbformat": 4,
 "nbformat_minor": 2
}
