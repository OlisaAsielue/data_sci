{
 "cells": [
  {
   "cell_type": "markdown",
   "metadata": {},
   "source": [
    "# Process 4"
   ]
  },
  {
   "cell_type": "markdown",
   "metadata": {},
   "source": [
    "## Quiz\n",
    "1. **In a linear regression model, the coefficient of an independent variable represents:**\n",
    "   - A) The variance in the dependent variable explained by the independent variable\n",
    "   - B) The average change in the dependent variable for a one-unit increase in the independent variable, holding other variables constant\n",
    "   - C) The intercept of the regression line, holding other variables constant\n",
    "   - D) The average prediction accuracy of the model\n",
    "   - **Your Answer:**  B\n",
    "\n",
    "2. **Which of the following best describes R-squared in the context of a linear regression model?**\n",
    "   - A) It shows the proportion of unexplained variation in the dependent variable after fitting the model.\n",
    "   - B) It shows the proportion of variation in the dependent variable that is explained by the independent variables.\n",
    "   - C) It quantifies the strength and direction of the linear relationship between the dependent and independent variables.\n",
    "   - D) It measures the difference between predicted and actual values for each data point.\n",
    "   - **Your Answer:**  B\n",
    "\n",
    "3. **In multiple regression, which of the following is correct?**\n",
    "   - A) Each predictor’s coefficient indicates the correlation with the dependent variable, assuming all other predictors are zero.\n",
    "   - B) The model only uses one predictor at a time to ensure independence.\n",
    "   - C) All predictor variables must be standardised before inclusion in the model.\n",
    "   - D) Each predictor’s coefficient indicates its association with the dependent variable while holding other predictors constant.\n",
    "   - **Your Answer:**  D\n",
    "\n",
    "4. **Which of the following is *not* an assumption of multiple linear regression?**\n",
    "   - A) The residuals are normally distributed.\n",
    "   - B) There is no multicollinearity among independent variables.\n",
    "   - C) The dependent variable must be binary.\n",
    "   - D) The relationship between independent and dependent variables is linear.\n",
    "   - **Your Answer:** C\n",
    "\n",
    "5. **When comparing multiple models using AIC (Akaike Information Criterion), the model with the lowest AIC value:**\n",
    "   - A) is generally preferred because it has fewer predictors and a higher R-squared.\n",
    "   - B) is generally preferred because it's a better balance between model fit and model complexity.\n",
    "   - C) is generally discarded because it minimises the residual sum of squares (RSS) without considering the number of predictors.\n",
    "   - D) is generally discarded because it indicates overfitting.\n",
    "   - **Your Answer:**  B"
   ]
  },
  {
   "cell_type": "markdown",
   "metadata": {},
   "source": [
    "## Code"
   ]
  },
  {
   "cell_type": "markdown",
   "metadata": {},
   "source": [
    "**Dataset Description**\n",
    "The dataset contains information about music album sales and three related factors that could influence sales:\n",
    "\n",
    "- **adverts**: the advertising budget spent on promoting the album (in thousands of dollars),\n",
    "- **sales**: the number of album copies sold (in thousands),\n",
    "- **airplay**: the number of times songs from the album were played on BBC Radio 1,\n",
    "- **attract**: a measure of how attractive the artist or artists is/are perceived by a random selection of their fans (on a scale from 1 to 10)."
   ]
  },
  {
   "cell_type": "code",
   "execution_count": 29,
   "metadata": {},
   "outputs": [],
   "source": [
    "import pandas as pd\n",
    "import numpy as np\n",
    "from sklearn.linear_model import LinearRegression\n",
    "from sklearn.metrics import r2_score\n",
    "\n",
    "def analyze_regression(data, independent_vars, dependent_var):\n",
    "    \n",
    "    # Handle dependent_var if it's a list\n",
    "    if isinstance(dependent_var, list):\n",
    "        dependent_var = dependent_var[0]\n",
    "    \n",
    "    \n",
    "    X = data[independent_vars]\n",
    "    y = data[dependent_var]\n",
    "    \n",
    "    \n",
    "    model = LinearRegression()\n",
    "    model.fit(X, y)\n",
    "    \n",
    "    \n",
    "    y_pred = model.predict(X)\n",
    "    r_squared = r2_score(y, y_pred)\n",
    "    \n",
    "    # Convert numpy types to Python native types\n",
    "    results = {\n",
    "        'coefficients': {var: float(coef) for var, coef in zip(independent_vars, model.coef_)},\n",
    "        'intercept': float(model.intercept_),\n",
    "        'r_squared': float(r_squared)\n",
    "    }\n",
    "    \n",
    "    return results\n",
    "\n",
    "def print_regression_results(results):\n",
    "\n",
    "    print(\"\\nRegression Analysis Results:\")\n",
    "    print(f\"Intercept: {results['intercept']:.4f}\")\n",
    "    print(\"\\nCoefficients:\")\n",
    "    for var, coef in results['coefficients'].items():\n",
    "        print(f\"  {var}: {coef:.4f}\")\n",
    "    print(f\"\\nR-squared: {results['r_squared']:.4f}\")\n",
    "    print(\"\\n\")"
   ]
  },
  {
   "cell_type": "markdown",
   "metadata": {
    "vscode": {
     "languageId": "plaintext"
    }
   },
   "source": [
    "> ### 1. **Simple Regression on Advertising Budget and Sales**\n",
    ">   Fit a simple linear regression model using `adverts` as the independent variable and `sales` as the dependent variable. Comment on the model's coefficient and intercept.\n"
   ]
  },
  {
   "cell_type": "code",
   "execution_count": 20,
   "metadata": {},
   "outputs": [
    {
     "data": {
      "text/html": [
       "<div>\n",
       "<style scoped>\n",
       "    .dataframe tbody tr th:only-of-type {\n",
       "        vertical-align: middle;\n",
       "    }\n",
       "\n",
       "    .dataframe tbody tr th {\n",
       "        vertical-align: top;\n",
       "    }\n",
       "\n",
       "    .dataframe thead th {\n",
       "        text-align: right;\n",
       "    }\n",
       "</style>\n",
       "<table border=\"1\" class=\"dataframe\">\n",
       "  <thead>\n",
       "    <tr style=\"text-align: right;\">\n",
       "      <th></th>\n",
       "      <th>adverts</th>\n",
       "      <th>sales</th>\n",
       "      <th>airplay</th>\n",
       "      <th>attract</th>\n",
       "    </tr>\n",
       "  </thead>\n",
       "  <tbody>\n",
       "    <tr>\n",
       "      <th>0</th>\n",
       "      <td>10.256</td>\n",
       "      <td>330</td>\n",
       "      <td>43</td>\n",
       "      <td>10</td>\n",
       "    </tr>\n",
       "    <tr>\n",
       "      <th>1</th>\n",
       "      <td>985.685</td>\n",
       "      <td>120</td>\n",
       "      <td>28</td>\n",
       "      <td>7</td>\n",
       "    </tr>\n",
       "    <tr>\n",
       "      <th>2</th>\n",
       "      <td>1445.563</td>\n",
       "      <td>360</td>\n",
       "      <td>35</td>\n",
       "      <td>7</td>\n",
       "    </tr>\n",
       "    <tr>\n",
       "      <th>3</th>\n",
       "      <td>1188.193</td>\n",
       "      <td>270</td>\n",
       "      <td>33</td>\n",
       "      <td>7</td>\n",
       "    </tr>\n",
       "    <tr>\n",
       "      <th>4</th>\n",
       "      <td>574.513</td>\n",
       "      <td>220</td>\n",
       "      <td>44</td>\n",
       "      <td>5</td>\n",
       "    </tr>\n",
       "  </tbody>\n",
       "</table>\n",
       "</div>"
      ],
      "text/plain": [
       "    adverts  sales  airplay  attract\n",
       "0    10.256    330       43       10\n",
       "1   985.685    120       28        7\n",
       "2  1445.563    360       35        7\n",
       "3  1188.193    270       33        7\n",
       "4   574.513    220       44        5"
      ]
     },
     "execution_count": 20,
     "metadata": {},
     "output_type": "execute_result"
    }
   ],
   "source": [
    "# your code here\n",
    "df = pd.read_csv('/Users/olisa/Lis/data_sci/week7/Album Sales 2.txt', delimiter='\\t')\n",
    "df.head()"
   ]
  },
  {
   "cell_type": "code",
   "execution_count": 24,
   "metadata": {},
   "outputs": [
    {
     "name": "stdout",
     "output_type": "stream",
     "text": [
      "\n",
      "Regression Analysis Results:\n",
      "Intercept: 134.1399\n",
      "\n",
      "Coefficients:\n",
      "  adverts: 0.0961\n",
      "\n",
      "R-squared: 0.3346\n",
      "\n",
      "\n"
     ]
    }
   ],
   "source": [
    "results = analyze_regression(df, ['adverts'], ['sales'])\n",
    "print_regression_results(results)"
   ]
  },
  {
   "cell_type": "markdown",
   "metadata": {},
   "source": [
    "The model explains 33.46% of sales variation (R² = 0.3346).\n",
    "\n",
    "For every unit increase in advertising budget, sales increase by 0.0961 units."
   ]
  },
  {
   "cell_type": "markdown",
   "metadata": {},
   "source": [
    "> ### 2. **Simple Regression on Airplay and Sales**\n",
    ">  Fit a simple linear regression model using `airplay` as the independent variable and `sales` as the dependent variable. Comment on the R-squared value and interpret the model fit.\n"
   ]
  },
  {
   "cell_type": "code",
   "execution_count": 25,
   "metadata": {},
   "outputs": [
    {
     "name": "stdout",
     "output_type": "stream",
     "text": [
      "\n",
      "Regression Analysis Results:\n",
      "Intercept: 84.8725\n",
      "\n",
      "Coefficients:\n",
      "  airplay: 3.9392\n",
      "\n",
      "R-squared: 0.3587\n",
      "\n",
      "\n"
     ]
    }
   ],
   "source": [
    "# your code here\n",
    "results2 = analyze_regression(df, ['airplay'], ['sales'])\n",
    "print_regression_results(results2)"
   ]
  },
  {
   "cell_type": "markdown",
   "metadata": {},
   "source": [
    "Slightly better model with R² = 0.3587 (35.87% of sales variation explained).\n",
    "\n",
    "Each unit increase in airplay leads to 3.9392 unit increase in sales.\n",
    "Shows stronger individual impact than advertising."
   ]
  },
  {
   "cell_type": "markdown",
   "metadata": {},
   "source": [
    "> ###  3. **Multiple Regression with Advertising Budget and Airplay**\n",
    ">  Fit a multiple regression model using `adverts` and `airplay` as predictors for `sales`. Comment on each coefficient. Can you tell which variable has a stronger impact on sales?\n",
    "\n"
   ]
  },
  {
   "cell_type": "code",
   "execution_count": 26,
   "metadata": {},
   "outputs": [
    {
     "name": "stdout",
     "output_type": "stream",
     "text": [
      "\n",
      "Regression Analysis Results:\n",
      "Intercept: 41.1238\n",
      "\n",
      "Coefficients:\n",
      "  adverts: 0.0869\n",
      "  airplay: 3.5888\n",
      "\n",
      "R-squared: 0.6293\n",
      "\n",
      "\n"
     ]
    }
   ],
   "source": [
    "# your code here\n",
    "results3 = analyze_regression(df, ['adverts', 'airplay'], ['sales'])\n",
    "print_regression_results(results3)"
   ]
  },
  {
   "cell_type": "markdown",
   "metadata": {},
   "source": [
    "Substantial improvement with R² = 0.6293 (62.93% explained variance).\n",
    "\n",
    "Airplay has stronger impact (coefficient = 3.5888) compared to advertising (0.0869).\n",
    "The combination of both variables provides much better predictive power."
   ]
  },
  {
   "cell_type": "markdown",
   "metadata": {},
   "source": [
    "> ###  4. **Model Comparison**\n",
    ">    Extend the previous model by adding `attract` as a third predictor. Fit the model and interpret how attractiveness influences sales. Compare the three models you created so far. Which model would you choose to predict album sales?\n",
    "\n"
   ]
  },
  {
   "cell_type": "code",
   "execution_count": 28,
   "metadata": {},
   "outputs": [
    {
     "name": "stdout",
     "output_type": "stream",
     "text": [
      "\n",
      "Regression Analysis Results:\n",
      "Intercept: -26.6130\n",
      "\n",
      "Coefficients:\n",
      "  adverts: 0.0849\n",
      "  airplay: 3.3674\n",
      "  attract: 11.0863\n",
      "\n",
      "R-squared: 0.6647\n",
      "\n",
      "\n"
     ]
    }
   ],
   "source": [
    "# your code here\n",
    "results4 = analyze_regression(df, ['adverts', 'airplay', 'attract'], ['sales'])\n",
    "print_regression_results(results4)"
   ]
  },
  {
   "cell_type": "markdown",
   "metadata": {},
   "source": [
    "Best performing model with R² = 0.6647 (66.47% explained variance)\n",
    "\n",
    "Attractiveness has significant positive impact (coefficient = 11.0863)\n",
    "Effect order: Attractiveness > Airplay > Advertising\n",
    "This is the best performing model for predictions due to:\n",
    "\n",
    "Highest R² value\n",
    "Captures three different aspects of sales influence\n",
    "Each variable contributes meaningfully to the prediction. \n",
    "\n",
    "The coefficient looks small (0.0849) because advertising budget is measured in larger units (e.g., thousands of pounds).\n",
    "For example: A 10,000 pound advertising budget would contribute 849 units to sales prediction (10000 × 0.0849).\n",
    "Meanwhile, airplay and attractiveness are likely measured in smaller scales."
   ]
  },
  {
   "cell_type": "markdown",
   "metadata": {},
   "source": [
    "> ### 5. **Model Prediction**\n",
    "> \n",
    "> Three artists sent their material to your music production company. Using the model you selected in the previous task, choose the artist who is more likely to sell. The artists' profiles are in the following cell. You can only pick one artist. Feel free to ignore any predictor that your model does not need. \n",
    "> \n",
    "> Stats has consequences! You will launch one artist to fame,  while shattering two artists' dreams. Choose wisely."
   ]
  },
  {
   "cell_type": "code",
   "execution_count": 32,
   "metadata": {},
   "outputs": [],
   "source": [
    "# artist profiles\n",
    "artists = {\n",
    "    'artist 1': {'adverts': 215, 'airplay': 28, 'attract': 8},\n",
    "    'artist 2': {'adverts': 531, 'airplay': 36, 'attract': 6},\n",
    "    'artist 3': {'adverts': 911, 'airplay': 19, 'attract': 7}\n",
    "}"
   ]
  },
  {
   "cell_type": "code",
   "execution_count": null,
   "metadata": {},
   "outputs": [
    {
     "name": "stdout",
     "output_type": "stream",
     "text": [
      "Predicted sales for each artist:\n",
      "artist 1: 174.62\n",
      "artist 2: 206.21\n",
      "artist 3: 192.30\n",
      "\n",
      "The artist most likely to sell is: artist 2\n"
     ]
    }
   ],
   "source": [
    "\n",
    "# Extract model coefficients and intercept from the results\n",
    "coefficients = results4['coefficients']\n",
    "intercept = results4['intercept']\n",
    "\n",
    "# A function to predict sales based on the artist's features\n",
    "def predict_sales(artist_profile, coefficients, intercept):\n",
    "   \n",
    "    sales = sum(coefficients[feature] * value for feature, value in artist_profile.items()) + intercept\n",
    "    return sales\n",
    "\n",
    "\n",
    "predicted_sales = {}\n",
    "for artist, profile in artists.items():\n",
    "    predicted_sales[artist] = predict_sales(profile, coefficients, intercept)\n",
    "\n",
    "\n",
    "best_artist = max(predicted_sales, key=predicted_sales.get)\n",
    "\n",
    "\n",
    "print(\"Predicted sales for each artist:\")\n",
    "for artist, sales in predicted_sales.items():\n",
    "    print(f\"{artist}: {sales:.2f}\")\n",
    "\n",
    "print(f\"\\nThe artist most likely to sell is: {best_artist}\")\n"
   ]
  },
  {
   "cell_type": "code",
   "execution_count": null,
   "metadata": {},
   "outputs": [],
   "source": []
  }
 ],
 "metadata": {
  "kernelspec": {
   "display_name": "Python 3",
   "language": "python",
   "name": "python3"
  },
  "language_info": {
   "codemirror_mode": {
    "name": "ipython",
    "version": 3
   },
   "file_extension": ".py",
   "mimetype": "text/x-python",
   "name": "python",
   "nbconvert_exporter": "python",
   "pygments_lexer": "ipython3",
   "version": "3.12.3"
  }
 },
 "nbformat": 4,
 "nbformat_minor": 2
}
