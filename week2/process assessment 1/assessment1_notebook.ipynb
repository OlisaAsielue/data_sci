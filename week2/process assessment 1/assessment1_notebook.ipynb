{
  "cells": [
    {
      "cell_type": "markdown",
      "id": "68e59922",
      "metadata": {
        "id": "68e59922"
      },
      "source": [
        "# Process Assignment 1: Data Cleaning & Pre-processing\n",
        "Welcome to the first process assessment. This is divided in two equally weighed parts, one theory-based quiz and one code-based.\n",
        "- Quiz: 50% of the total\n",
        "- Coding: 50% of the total"
      ]
    },
    {
      "cell_type": "markdown",
      "id": "0m5lsyjVYoOD",
      "metadata": {
        "id": "0m5lsyjVYoOD"
      },
      "source": [
        "\n",
        "# Part 1: Quiz\n",
        "The first part is a 5-question quiz on data cleaning and preprocessing using Python. Answer the following 5 multiple-choice questions. Double click on this cell to type your answers below.\n",
        "\n",
        "### Question 1:\n",
        "**What is the first step in the data science lifecycle?**\n",
        "*(Select 1)*\n",
        "- a) Data Collection  \n",
        "- b) Problem Definition  \n",
        "- c) Model Building  \n",
        "- d) Data Cleaning  \n",
        "\n",
        "Type your answer here: b\n",
        "\n",
        "### Question 2:\n",
        "**Which scale allows additivity and multiplicative interpretations, such as saying 80 miles is \"twice as far\" as 40 miles?**\n",
        "*(Select 1)*\n",
        "- a) nominal\t\n",
        "- b) ordinal\n",
        "- c) interval\n",
        "- d) ratio\n",
        "\n",
        "Type your answer here: d\n",
        "\n",
        "### Question 3:\n",
        "**Which of the following is an example of an ordinal scale?**  \n",
        "- a) biological sex\n",
        "- b) class rank\n",
        "- c) temperature\n",
        "- d) distance\n",
        "\n",
        "Type your answer here: b\n",
        "\n",
        "### Question 4:\n",
        "**What is the primary difference between .loc and .iloc when selecting data in a pandas DataFrame?** (Select 1)\n",
        "- a) `.loc` selects data based on index labels, while `.iloc` selects data based on integer-based positions.\n",
        "- b) `.loc` can only be used for selecting rows, whereas `.iloc` can be used for selecting both rows and columns.  \n",
        "- c) `.iloc` is faster than `.loc` because it can handle missing data, while `.loc` cannot.  \n",
        "- d) `.iloc` selects data based on index labels, while `.loc` selects data based on integer-based positions.  \n",
        "\n",
        "Type your answer here: a\n",
        "\n",
        "### Question 5:\n",
        "**Read the Pandas documentation of the method [`.fillna`](https://pandas.pydata.org/docs/reference/api/pandas.DataFrame.fillna.html). What is the correct way to apply this method if you wanted to fill `NaN` values in a specific column called \"Score\" with the mean value of that column?**\n",
        "- a) `df.fillna(method=\"bfill\", inplace=True)`\n",
        "- b) `df.fillna(axis=\"Score\", value=\"mean\", inplace=True)`\n",
        "- c) `df[\"Score\"].fillna(value=df[\"Score\"].mean(), inplace=True)`\n",
        "- d) `df[\"Score\"].fillna(\"mean\", inplace=True)` \n",
        "\n",
        "Type your answer here: c"
      ]
    },
    {
      "cell_type": "markdown",
      "id": "Wc6C1AAlj-Cj",
      "metadata": {
        "id": "Wc6C1AAlj-Cj"
      },
      "source": [
        "# Part 2: Coding\n",
        "In the next section, you will perform some basic data manipulation exercises, often used in data cleaning and preprocessing.\n",
        "\n",
        "This part is divided in 5 tasks, each worth 0.5 point. Each exercise build on the previous one."
      ]
    },
    {
      "cell_type": "markdown",
      "id": "8X1t1zlcj7EM",
      "metadata": {
        "id": "8X1t1zlcj7EM"
      },
      "source": [
        "## Task 1\n",
        "Import the following libraries:\n",
        "- numpy\n",
        "- pandas\n",
        "- matplotlib.pyplot\n",
        "- seaborn\n",
        "\n",
        "using the associated aliases:\n",
        "- np\n",
        "- pd\n",
        "- plt\n",
        "- sns"
      ]
    },
    {
      "cell_type": "code",
      "execution_count": 1,
      "id": "mc5guGEyeK4J",
      "metadata": {
        "id": "mc5guGEyeK4J"
      },
      "outputs": [],
      "source": [
        "import numpy as np\n",
        "import pandas as pd\n",
        "import matplotlib as plt\n",
        "import seaborn as sns\n"
      ]
    },
    {
      "cell_type": "code",
      "execution_count": 2,
      "id": "PJpfb6mlfOSE",
      "metadata": {
        "id": "PJpfb6mlfOSE"
      },
      "outputs": [],
      "source": [
        "# you can run this cell to test your solution\n",
        "assert pd\n",
        "assert np\n",
        "assert plt\n",
        "assert sns"
      ]
    },
    {
      "cell_type": "markdown",
      "id": "4011c1f0",
      "metadata": {
        "id": "4011c1f0"
      },
      "source": [
        "## Task 2\n",
        "Let's load some data!\n",
        "Please load the data file `data.csv` that accompanies this notebook in a pandas dataframe called `df`. "
      ]
    },
    {
      "cell_type": "code",
      "execution_count": 4,
      "id": "vN7RXJEBgMtz",
      "metadata": {
        "id": "vN7RXJEBgMtz"
      },
      "outputs": [],
      "source": [
        "df = pd.read_csv('/Users/olisa/Lis/data_sci/week2/process assessment 1/data/data.csv')\n"
      ]
    },
    {
      "cell_type": "code",
      "execution_count": 5,
      "id": "fe420e10",
      "metadata": {},
      "outputs": [
        {
          "data": {
            "text/html": [
              "<div>\n",
              "<style scoped>\n",
              "    .dataframe tbody tr th:only-of-type {\n",
              "        vertical-align: middle;\n",
              "    }\n",
              "\n",
              "    .dataframe tbody tr th {\n",
              "        vertical-align: top;\n",
              "    }\n",
              "\n",
              "    .dataframe thead th {\n",
              "        text-align: right;\n",
              "    }\n",
              "</style>\n",
              "<table border=\"1\" class=\"dataframe\">\n",
              "  <thead>\n",
              "    <tr style=\"text-align: right;\">\n",
              "      <th></th>\n",
              "      <th>Country</th>\n",
              "      <th>Age</th>\n",
              "      <th>Salary</th>\n",
              "      <th>Purchased</th>\n",
              "    </tr>\n",
              "  </thead>\n",
              "  <tbody>\n",
              "    <tr>\n",
              "      <th>0</th>\n",
              "      <td>France</td>\n",
              "      <td>44.0</td>\n",
              "      <td>72000.0</td>\n",
              "      <td>No</td>\n",
              "    </tr>\n",
              "    <tr>\n",
              "      <th>1</th>\n",
              "      <td>Spain</td>\n",
              "      <td>27.0</td>\n",
              "      <td>48000.0</td>\n",
              "      <td>Yes</td>\n",
              "    </tr>\n",
              "    <tr>\n",
              "      <th>2</th>\n",
              "      <td>Germany</td>\n",
              "      <td>30.0</td>\n",
              "      <td>54000.0</td>\n",
              "      <td>No</td>\n",
              "    </tr>\n",
              "    <tr>\n",
              "      <th>3</th>\n",
              "      <td>Spain</td>\n",
              "      <td>38.0</td>\n",
              "      <td>61000.0</td>\n",
              "      <td>No</td>\n",
              "    </tr>\n",
              "    <tr>\n",
              "      <th>4</th>\n",
              "      <td>Germany</td>\n",
              "      <td>40.0</td>\n",
              "      <td>NaN</td>\n",
              "      <td>Yes</td>\n",
              "    </tr>\n",
              "    <tr>\n",
              "      <th>5</th>\n",
              "      <td>France</td>\n",
              "      <td>35.0</td>\n",
              "      <td>58000.0</td>\n",
              "      <td>Yes</td>\n",
              "    </tr>\n",
              "    <tr>\n",
              "      <th>6</th>\n",
              "      <td>Spain</td>\n",
              "      <td>NaN</td>\n",
              "      <td>52000.0</td>\n",
              "      <td>No</td>\n",
              "    </tr>\n",
              "    <tr>\n",
              "      <th>7</th>\n",
              "      <td>France</td>\n",
              "      <td>48.0</td>\n",
              "      <td>79000.0</td>\n",
              "      <td>Yes</td>\n",
              "    </tr>\n",
              "    <tr>\n",
              "      <th>8</th>\n",
              "      <td>Germany</td>\n",
              "      <td>50.0</td>\n",
              "      <td>83000.0</td>\n",
              "      <td>No</td>\n",
              "    </tr>\n",
              "    <tr>\n",
              "      <th>9</th>\n",
              "      <td>France</td>\n",
              "      <td>37.0</td>\n",
              "      <td>67000.0</td>\n",
              "      <td>Yes</td>\n",
              "    </tr>\n",
              "  </tbody>\n",
              "</table>\n",
              "</div>"
            ],
            "text/plain": [
              "   Country   Age   Salary Purchased\n",
              "0   France  44.0  72000.0        No\n",
              "1    Spain  27.0  48000.0       Yes\n",
              "2  Germany  30.0  54000.0        No\n",
              "3    Spain  38.0  61000.0        No\n",
              "4  Germany  40.0      NaN       Yes\n",
              "5   France  35.0  58000.0       Yes\n",
              "6    Spain   NaN  52000.0        No\n",
              "7   France  48.0  79000.0       Yes\n",
              "8  Germany  50.0  83000.0        No\n",
              "9   France  37.0  67000.0       Yes"
            ]
          },
          "execution_count": 5,
          "metadata": {},
          "output_type": "execute_result"
        }
      ],
      "source": [
        "# test your solution by running this cell\n",
        "df"
      ]
    },
    {
      "cell_type": "markdown",
      "id": "ktZouRsTiPNo",
      "metadata": {
        "id": "ktZouRsTiPNo"
      },
      "source": [
        "## Task 3\n"
      ]
    },
    {
      "cell_type": "markdown",
      "id": "nk77cnILibyJ",
      "metadata": {
        "id": "nk77cnILibyJ"
      },
      "source": [
        "Print the number of missing values in each column of the DataFrame `df`."
      ]
    },
    {
      "cell_type": "code",
      "execution_count": 6,
      "id": "ovGhs90-i1W5",
      "metadata": {
        "id": "ovGhs90-i1W5"
      },
      "outputs": [
        {
          "name": "stdout",
          "output_type": "stream",
          "text": [
            "Country      0\n",
            "Age          1\n",
            "Salary       1\n",
            "Purchased    0\n",
            "dtype: int64\n"
          ]
        }
      ],
      "source": [
        "print(df.isnull().sum())\n"
      ]
    },
    {
      "cell_type": "markdown",
      "id": "xPg-uQT0jofI",
      "metadata": {
        "id": "xPg-uQT0jofI"
      },
      "source": [
        "## Task 4\n",
        "\n",
        "Create a new dataframe `df_num` that contains only the numerical columns of `df`."
      ]
    },
    {
      "cell_type": "code",
      "execution_count": 7,
      "id": "sdTdW6TMAO87",
      "metadata": {
        "id": "sdTdW6TMAO87"
      },
      "outputs": [],
      "source": [
        "# your code here\n",
        "df_num = df.drop(columns=[\"Country\", \"Purchased\"])"
      ]
    },
    {
      "cell_type": "code",
      "execution_count": 8,
      "id": "NvXxSMaKVOZF",
      "metadata": {
        "colab": {
          "base_uri": "https://localhost:8080/",
          "height": 363
        },
        "id": "NvXxSMaKVOZF",
        "outputId": "4b6852b4-c1a5-4cf8-e8a6-641f2479cd94"
      },
      "outputs": [
        {
          "data": {
            "text/html": [
              "<div>\n",
              "<style scoped>\n",
              "    .dataframe tbody tr th:only-of-type {\n",
              "        vertical-align: middle;\n",
              "    }\n",
              "\n",
              "    .dataframe tbody tr th {\n",
              "        vertical-align: top;\n",
              "    }\n",
              "\n",
              "    .dataframe thead th {\n",
              "        text-align: right;\n",
              "    }\n",
              "</style>\n",
              "<table border=\"1\" class=\"dataframe\">\n",
              "  <thead>\n",
              "    <tr style=\"text-align: right;\">\n",
              "      <th></th>\n",
              "      <th>Age</th>\n",
              "      <th>Salary</th>\n",
              "    </tr>\n",
              "  </thead>\n",
              "  <tbody>\n",
              "    <tr>\n",
              "      <th>0</th>\n",
              "      <td>44.0</td>\n",
              "      <td>72000.0</td>\n",
              "    </tr>\n",
              "    <tr>\n",
              "      <th>1</th>\n",
              "      <td>27.0</td>\n",
              "      <td>48000.0</td>\n",
              "    </tr>\n",
              "    <tr>\n",
              "      <th>2</th>\n",
              "      <td>30.0</td>\n",
              "      <td>54000.0</td>\n",
              "    </tr>\n",
              "    <tr>\n",
              "      <th>3</th>\n",
              "      <td>38.0</td>\n",
              "      <td>61000.0</td>\n",
              "    </tr>\n",
              "    <tr>\n",
              "      <th>4</th>\n",
              "      <td>40.0</td>\n",
              "      <td>NaN</td>\n",
              "    </tr>\n",
              "    <tr>\n",
              "      <th>5</th>\n",
              "      <td>35.0</td>\n",
              "      <td>58000.0</td>\n",
              "    </tr>\n",
              "    <tr>\n",
              "      <th>6</th>\n",
              "      <td>NaN</td>\n",
              "      <td>52000.0</td>\n",
              "    </tr>\n",
              "    <tr>\n",
              "      <th>7</th>\n",
              "      <td>48.0</td>\n",
              "      <td>79000.0</td>\n",
              "    </tr>\n",
              "    <tr>\n",
              "      <th>8</th>\n",
              "      <td>50.0</td>\n",
              "      <td>83000.0</td>\n",
              "    </tr>\n",
              "    <tr>\n",
              "      <th>9</th>\n",
              "      <td>37.0</td>\n",
              "      <td>67000.0</td>\n",
              "    </tr>\n",
              "  </tbody>\n",
              "</table>\n",
              "</div>"
            ],
            "text/plain": [
              "    Age   Salary\n",
              "0  44.0  72000.0\n",
              "1  27.0  48000.0\n",
              "2  30.0  54000.0\n",
              "3  38.0  61000.0\n",
              "4  40.0      NaN\n",
              "5  35.0  58000.0\n",
              "6   NaN  52000.0\n",
              "7  48.0  79000.0\n",
              "8  50.0  83000.0\n",
              "9  37.0  67000.0"
            ]
          },
          "execution_count": 8,
          "metadata": {},
          "output_type": "execute_result"
        }
      ],
      "source": [
        "# You can test your solution by running this cell. Does df_num contain what you expected?\n",
        "df_num"
      ]
    },
    {
      "cell_type": "markdown",
      "id": "3znlJ4iri1B3",
      "metadata": {
        "id": "3znlJ4iri1B3"
      },
      "source": [
        "## Task 5\n",
        "Create a new DataFrame named `df0` by filling the missing values in `df_num` with zeros, while keeping the original `df_num` unchanged. (0.25 points)"
      ]
    },
    {
      "cell_type": "code",
      "execution_count": 9,
      "id": "I_ZGsfCijf3h",
      "metadata": {
        "id": "I_ZGsfCijf3h"
      },
      "outputs": [],
      "source": [
        "# your code here\n",
        "df0 = df_num.fillna(0)"
      ]
    },
    {
      "cell_type": "code",
      "execution_count": 12,
      "id": "nqMxGXLmAclF",
      "metadata": {
        "colab": {
          "base_uri": "https://localhost:8080/",
          "height": 206
        },
        "id": "nqMxGXLmAclF",
        "outputId": "069532c3-c66a-457f-959a-fcf5a52b28a7"
      },
      "outputs": [
        {
          "name": "stdout",
          "output_type": "stream",
          "text": [
            "Original dataframe:\n",
            "    Age   Salary\n",
            "0  44.0  72000.0\n",
            "1  27.0  48000.0\n",
            "2  30.0  54000.0\n",
            "3  38.0  61000.0\n",
            "4  40.0      NaN\n",
            "Filled dataframe:\n",
            "    Age   Salary\n",
            "0  44.0  72000.0\n",
            "1  27.0  48000.0\n",
            "2  30.0  54000.0\n",
            "3  38.0  61000.0\n",
            "4  40.0      0.0\n"
          ]
        }
      ],
      "source": [
        "# Test your solution by running this cell. It will output the current df.\n",
        "# Did your code in the previous cell fill the null values with a zero?\n",
        "print('Original dataframe:')\n",
        "print(df_num.head())\n",
        "print('Filled dataframe:')\n",
        "print(df0.head())"
      ]
    },
    {
      "cell_type": "markdown",
      "id": "0ig7Xe4SGl6R",
      "metadata": {
        "id": "0ig7Xe4SGl6R"
      },
      "source": [
        "Can you see any issues in assigning zero to a null value in the column Salary? If so, what alternative approaches would you follow? (0.25 points)\n",
        "\n",
        "As there is too little a number of data points to just take out that row (e.g it would significantly effect the final result, in addition a salary is expected to be much higher than zero)) I would calculate the mean salary with the data i have got then use that mean value inplace of the zero "
      ]
    }
  ],
  "metadata": {
    "colab": {
      "provenance": [],
      "toc_visible": true
    },
    "kernelspec": {
      "display_name": "venv",
      "language": "python",
      "name": "python3"
    },
    "language_info": {
      "codemirror_mode": {
        "name": "ipython",
        "version": 3
      },
      "file_extension": ".py",
      "mimetype": "text/x-python",
      "name": "python",
      "nbconvert_exporter": "python",
      "pygments_lexer": "ipython3",
      "version": "3.12.3"
    }
  },
  "nbformat": 4,
  "nbformat_minor": 5
}
