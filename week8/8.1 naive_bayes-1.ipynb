{
 "cells": [
  {
   "cell_type": "markdown",
   "id": "4e46a400",
   "metadata": {},
   "source": [
    "# Naive Bayes classifiers"
   ]
  },
  {
   "cell_type": "code",
   "execution_count": null,
   "id": "c1606e58",
   "metadata": {},
   "outputs": [],
   "source": [
    "import numpy as np\n",
    "import pandas as pd\n",
    "import matplotlib.pyplot as plt\n",
    "pd.set_option('mode.copy_on_write', True)"
   ]
  },
  {
   "cell_type": "markdown",
   "id": "e613fd0f",
   "metadata": {},
   "source": [
    "Also see: [Naive Bayes\n",
    "classifiers](https://jakevdp.github.io/PythonDataScienceHandbook/05.05-naive-bayes.html)\n",
    "in the [Python Data Science\n",
    "Handbook](https://jakevdp.github.io/PythonDataScienceHandbook)."
   ]
  },
  {
   "cell_type": "code",
   "execution_count": null,
   "id": "749b7ded",
   "metadata": {},
   "outputs": [],
   "source": [
    "import seaborn as sns"
   ]
  },
  {
   "cell_type": "code",
   "execution_count": null,
   "id": "a229e286",
   "metadata": {},
   "outputs": [],
   "source": [
    "penguins = pd.read_csv('data/penguins.csv').dropna()\n",
    "penguins"
   ]
  },
  {
   "cell_type": "code",
   "execution_count": null,
   "id": "3e1c8060",
   "metadata": {},
   "outputs": [],
   "source": [
    "sns.pairplot(penguins, hue=\"species\")"
   ]
  },
  {
   "cell_type": "code",
   "execution_count": null,
   "id": "2ea26492",
   "metadata": {},
   "outputs": [],
   "source": [
    "species_names = ['Chinstrap', 'Gentoo']"
   ]
  },
  {
   "cell_type": "code",
   "execution_count": null,
   "id": "e8253f4f",
   "metadata": {},
   "outputs": [],
   "source": [
    "df = penguins.loc[\n",
    "    penguins['species'].isin(species_names),\n",
    "    ['species', 'body_mass_g', 'bill_depth_mm']\n",
    "]\n",
    "df"
   ]
  },
  {
   "cell_type": "code",
   "execution_count": null,
   "id": "d4c61ca8",
   "metadata": {},
   "outputs": [],
   "source": [
    "sns.histplot(data=df, x=\"body_mass_g\", hue=\"species\")"
   ]
  },
  {
   "cell_type": "code",
   "execution_count": null,
   "id": "cb6de886",
   "metadata": {},
   "outputs": [],
   "source": [
    "by_species = df.groupby('species')\n",
    "bm_by_species = by_species['body_mass_g']"
   ]
  },
  {
   "cell_type": "code",
   "execution_count": null,
   "id": "b621531e",
   "metadata": {},
   "outputs": [],
   "source": [
    "fig, axes = plt.subplots(1, 2)\n",
    "axes[0].hist(bm_by_species.get_group('Chinstrap'))\n",
    "axes[0].set_title('Chinstrap')\n",
    "axes[1].hist(bm_by_species.get_group('Gentoo'));\n",
    "axes[1].set_title('Gentoo')"
   ]
  },
  {
   "cell_type": "markdown",
   "id": "64218cfd",
   "metadata": {},
   "source": [
    "## Enumerate\n",
    "\n",
    "While we are here — we introduce `enumerate`.\n",
    "\n",
    "Imagine we need *both* the elements in a list, *and* the position of that element:"
   ]
  },
  {
   "cell_type": "code",
   "execution_count": null,
   "id": "f5e9d411",
   "metadata": {},
   "outputs": [],
   "source": [
    "position_no = 0  # A variable to keep track of the position (index).\n",
    "for name in species_names:\n",
    "    print('Group', position_no, 'name is', name)\n",
    "    position_no = position_no + 1  # We have to increment the position."
   ]
  },
  {
   "cell_type": "markdown",
   "id": "5269252c",
   "metadata": {},
   "source": [
    "We can avoid the extra variable by using `enumerate`, wrapped around the set of\n",
    "things we want to process.  `enumerate` returns two things at each step — the\n",
    "position (index), and the next element from the set of things."
   ]
  },
  {
   "cell_type": "code",
   "execution_count": null,
   "id": "7452c60c",
   "metadata": {},
   "outputs": [],
   "source": [
    "for position_no, name in enumerate(species_names):\n",
    "    print('Group', position_no, 'name is', name)"
   ]
  },
  {
   "cell_type": "markdown",
   "id": "cfded965",
   "metadata": {},
   "source": [
    "We use `enumerate` to do the plots more neatly below.\n",
    "\n",
    "The plots again:"
   ]
  },
  {
   "cell_type": "code",
   "execution_count": null,
   "id": "8dc4df25",
   "metadata": {},
   "outputs": [],
   "source": [
    "fig, axes = plt.subplots(1, 2)\n",
    "for i, name in enumerate(species_names):\n",
    "    axes[i].hist(bm_by_species.get_group(name))\n",
    "    axes[i].set_title(name)"
   ]
  },
  {
   "cell_type": "markdown",
   "id": "0b7d8b88",
   "metadata": {},
   "source": [
    "## Towards classification with probability\n",
    "\n",
    "We are going to start to think about getting the probability of a particular\n",
    "*mass* given we have a Chinstrap or a Gentoo penguin.  We might like to start\n",
    "with density histograms.  Here was ask Matplotlib to set the area of the bars\n",
    "to sum to 1."
   ]
  },
  {
   "cell_type": "code",
   "execution_count": null,
   "id": "a66328c2",
   "metadata": {},
   "outputs": [],
   "source": [
    "fig, axes = plt.subplots(1, 2)\n",
    "for i, name in enumerate(species_names):\n",
    "    axes[i].hist(bm_by_species.get_group(name), density=True)\n",
    "    axes[i].set_title(name)"
   ]
  },
  {
   "cell_type": "markdown",
   "id": "b4b7d8cd",
   "metadata": {},
   "source": [
    "For the moment, let us model these two distributions as normal curves."
   ]
  },
  {
   "cell_type": "code",
   "execution_count": null,
   "id": "1b7913d8",
   "metadata": {},
   "outputs": [],
   "source": [
    "# Notice the Numpy std function (variance divisor is n rather than\n",
    "# (n - 1).  This is to match scikit-learn's implementation.\n",
    "bm_params = bm_by_species.agg(mean=\"mean\", std=lambda x : np.std(x))\n",
    "bm_params"
   ]
  },
  {
   "cell_type": "markdown",
   "id": "294f9a3c",
   "metadata": {},
   "source": [
    "We can use a Scipy statistics distribution to make a *normal* distribution with\n",
    "the same mean and standard deviation."
   ]
  },
  {
   "cell_type": "code",
   "execution_count": null,
   "id": "686fe607",
   "metadata": {},
   "outputs": [],
   "source": [
    "import scipy.stats as sps"
   ]
  },
  {
   "cell_type": "code",
   "execution_count": null,
   "id": "eec900a6",
   "metadata": {},
   "outputs": [],
   "source": [
    "# A normal distribution with the same mean and standard deviation.\n",
    "chinstrap_dist = sps.norm(bm_params.loc['Chinstrap', 'mean'],\n",
    "                          bm_params.loc['Chinstrap', 'std'])"
   ]
  },
  {
   "cell_type": "code",
   "execution_count": null,
   "id": "5c0f8ab8",
   "metadata": {},
   "outputs": [],
   "source": [
    "# The probability density function of the distribution:\n",
    "chinstraps = bm_by_species.get_group('Chinstrap')\n",
    "c_masses_x = np.linspace(chinstraps.min(), chinstraps.max(), 1000)\n",
    "plt.plot(c_masses_x, chinstrap_dist.pdf(c_masses_x), 'r:')"
   ]
  },
  {
   "cell_type": "markdown",
   "id": "324d70dd",
   "metadata": {},
   "source": [
    "This is the plot along with the actual densities:"
   ]
  },
  {
   "cell_type": "code",
   "execution_count": null,
   "id": "29a9f49d",
   "metadata": {},
   "outputs": [],
   "source": [
    "plt.hist(chinstraps, density=True)\n",
    "plt.plot(c_masses_x, chinstrap_dist.pdf(c_masses_x), 'r:')"
   ]
  },
  {
   "cell_type": "markdown",
   "id": "d136cd3d",
   "metadata": {},
   "source": [
    "The normal (Gaussian) probability density function gives our estimate of the\n",
    "probability (density) of any given weight."
   ]
  },
  {
   "cell_type": "code",
   "execution_count": null,
   "id": "07259d57",
   "metadata": {},
   "outputs": [],
   "source": [
    "chinstrap_dist.pdf(3500)"
   ]
  },
  {
   "cell_type": "markdown",
   "id": "166868c1",
   "metadata": {},
   "source": [
    "With these we can get the probability of any mass in the dataset given that the\n",
    "penguin is a Chinstrap:\n",
    "\n",
    "$$\n",
    "P(\\text{mass} | \\text{Chinstrap})\n",
    "$$\n",
    "\n",
    "Actually, to be concise, let's use $m$ for $\\text{mass}$ and $C$ for\n",
    "$\\text{Chinstrap}$.\n",
    "\n",
    "$$\n",
    "P(m | C)\n",
    "$$\n",
    "\n",
    "We fill in the values of $P(m | C)$:"
   ]
  },
  {
   "cell_type": "code",
   "execution_count": null,
   "id": "d9a9d46d",
   "metadata": {},
   "outputs": [],
   "source": [
    "df['p_m_given_c'] = chinstrap_dist.pdf(df['body_mass_g'])\n",
    "df"
   ]
  },
  {
   "cell_type": "markdown",
   "id": "5eccf240",
   "metadata": {},
   "source": [
    "Likewise:\n",
    "\n",
    "$$\n",
    "P(\\text{mass}|\\text{Gentoo})\n",
    "$$\n",
    "\n",
    "which we will write as:\n",
    "\n",
    "$$\n",
    "P(m | G)\n",
    "$$"
   ]
  },
  {
   "cell_type": "code",
   "execution_count": null,
   "id": "14d1cb04",
   "metadata": {},
   "outputs": [],
   "source": [
    "gentoo_dist = sps.norm(bm_params.loc['Gentoo', 'mean'],\n",
    "                       bm_params.loc['Gentoo', 'std'])\n",
    "gentoos = bm_by_species.get_group('Gentoo')\n",
    "g_masses_x = np.linspace(gentoos.min(), gentoos.max(), 1000)\n",
    "plt.hist(gentoos, density=True)\n",
    "plt.plot(g_masses_x, gentoo_dist.pdf(g_masses_x), 'r:');\n",
    "plt.title('Gentoo density and estimated density');"
   ]
  },
  {
   "cell_type": "code",
   "execution_count": null,
   "id": "3212a64b",
   "metadata": {},
   "outputs": [],
   "source": [
    "df['p_m_given_g'] = gentoo_dist.pdf(df['body_mass_g'])\n",
    "df"
   ]
  },
  {
   "cell_type": "markdown",
   "id": "0183951e",
   "metadata": {},
   "source": [
    "We also need prior probabilities for Chinstrap ($C$) and Gentoo ($G$):\n",
    "\n",
    "$$\n",
    "P(C)\n",
    "$$\n",
    "\n",
    "$$\n",
    "P(G)\n",
    "$$\n",
    "\n",
    "Let's just use the proportions in the dataset:"
   ]
  },
  {
   "cell_type": "code",
   "execution_count": null,
   "id": "0829da23",
   "metadata": {},
   "outputs": [],
   "source": [
    "p_chinstrap = np.mean(df['species'] == 'Chinstrap')\n",
    "p_chinstrap"
   ]
  },
  {
   "cell_type": "code",
   "execution_count": null,
   "id": "bf0b4c89",
   "metadata": {},
   "outputs": [],
   "source": [
    "p_gentoo = np.mean(df['species'] == 'Gentoo')\n",
    "p_gentoo"
   ]
  },
  {
   "cell_type": "code",
   "execution_count": null,
   "id": "4d475f45",
   "metadata": {},
   "outputs": [],
   "source": [
    "df['p_chinstrap'] = p_chinstrap\n",
    "df['p_gentoo'] = p_gentoo\n",
    "df"
   ]
  },
  {
   "cell_type": "markdown",
   "id": "461dfe81",
   "metadata": {},
   "source": [
    "In our model, each individual mass can only come about in one of two\n",
    "situations: the penguin is a Chinstrap, or the penguin is a Gentoo.  That is, the mass can only come about in these situations:\n",
    "\n",
    "$$\n",
    "P(m \\text{ and } C)\n",
    "$$\n",
    "\n",
    "or:\n",
    "\n",
    "$$\n",
    "P(m \\text{ and } G)\n",
    "$$\n",
    "\n",
    "But:\n",
    "\n",
    "$$\n",
    "P(m \\text{ and } C) = P(m | C) P(C)\n",
    "$$\n",
    "\n",
    "and\n",
    "\n",
    "$$\n",
    "P(m \\text{ and } G) = P(m | G) P(G)\n",
    "$$\n",
    "\n",
    "Let's calculate those now:"
   ]
  },
  {
   "cell_type": "code",
   "execution_count": null,
   "id": "64b82cca",
   "metadata": {},
   "outputs": [],
   "source": [
    "df['p_m_and_c'] = df['p_m_given_c'] * df['p_chinstrap']\n",
    "df['p_m_and_g'] = df['p_m_given_g'] * df['p_gentoo']"
   ]
  },
  {
   "cell_type": "markdown",
   "id": "b29978eb",
   "metadata": {},
   "source": [
    "$P(m \\text{ and } C)$, $P(m \\text{ and } G)$ are\n",
    "mutually exclusive, so we add the probabilities to give the probability of\n",
    "getting a particular mass value $m$:\n",
    "\n",
    "$$\n",
    "P(m) = P(m \\text{ and } C) + P(m \\text{ and } G)\n",
    "$$"
   ]
  },
  {
   "cell_type": "code",
   "execution_count": null,
   "id": "f4ce59a6",
   "metadata": {},
   "outputs": [],
   "source": [
    "df['p_mass'] = df['p_m_and_c'] + df['p_m_and_g']\n",
    "df"
   ]
  },
  {
   "cell_type": "markdown",
   "id": "c2a78bc2",
   "metadata": {},
   "source": [
    "How we have everything we need to work out the *posterior* probability that\n",
    "a penguin is a Chinstrap, given the weight of the penguin:\n",
    "\n",
    "$$\n",
    "P(C | m) = \\frac{P(m | C) * P(C)}{P(m)}\n",
    "$$"
   ]
  },
  {
   "cell_type": "code",
   "execution_count": null,
   "id": "fbb4f6e6",
   "metadata": {},
   "outputs": [],
   "source": [
    "df['p_c_given_m'] = (df['p_m_given_c'] * df['p_chinstrap']) / df['p_mass']\n",
    "df"
   ]
  },
  {
   "cell_type": "markdown",
   "id": "729de933",
   "metadata": {},
   "source": [
    "Likewise:\n",
    "\n",
    "$$\n",
    "P(G | m) = \\frac{P(m | G) * P(G)}{P(m)}\n",
    "$$"
   ]
  },
  {
   "cell_type": "code",
   "execution_count": null,
   "id": "26e24e69",
   "metadata": {},
   "outputs": [],
   "source": [
    "df['p_g_given_m'] = (df['p_m_given_g'] * df['p_gentoo']) / df['p_mass']\n",
    "df"
   ]
  },
  {
   "cell_type": "code",
   "execution_count": null,
   "id": "a13edfc7",
   "metadata": {},
   "outputs": [],
   "source": [
    "df['bayes_predictions'] = np.where(\n",
    "    df['p_c_given_m'] > df['p_g_given_m'],\n",
    "    'Chinstrap', 'Gentoo')\n",
    "df"
   ]
  },
  {
   "cell_type": "markdown",
   "id": "d0afd3c1",
   "metadata": {},
   "source": [
    "But - wait - for our Bayes predictions, we don't actually need the $P(\\text{mass})$ value.  Why?  Because we can calculate the ratio of the posterior probabilities like this:\n",
    "\n",
    "$$\n",
    "\\text{LR} = \\frac{P(C | m)}{P(G | m)}  \\\\\n",
    "= \\frac\n",
    "{\\frac{ P(m | C) * P(C) } { P(m) }}\n",
    "{\\frac{P(m | G) * P(G)} { P(m) }} \\\\\n",
    "= \\frac{P(m | C) * P(C)} {P(m | G) * P(G)}\n",
    "$$"
   ]
  },
  {
   "cell_type": "code",
   "execution_count": null,
   "id": "f1934f94",
   "metadata": {},
   "outputs": [],
   "source": [
    "likelihood_ratio = ((df['p_m_given_c'] * df['p_chinstrap']) /\n",
    "                    (df['p_m_given_g'] * df['p_gentoo']))"
   ]
  },
  {
   "cell_type": "code",
   "execution_count": null,
   "id": "b103a593",
   "metadata": {},
   "outputs": [],
   "source": [
    "# From the divide-out trick above, this gives us the same as:\n",
    "np.allclose(likelihood_ratio, df['p_c_given_m'] / df['p_g_given_m'])"
   ]
  },
  {
   "cell_type": "markdown",
   "id": "8f9d86bd",
   "metadata": {},
   "source": [
    "Notice we have divided out the $P(\\text{mass})$ in this ratio.  Notice too that ratios above 1 mean more likely Chinstrap, and less than one mean less likely Chinstrap, more likely Gentoo.  So we get the same predictions from the likelihood as we would from the full posterior probabilities:"
   ]
  },
  {
   "cell_type": "code",
   "execution_count": null,
   "id": "868474e6",
   "metadata": {},
   "outputs": [],
   "source": [
    "likelihood_predictions = np.where(\n",
    "    likelihood_ratio > 1,\n",
    "    'Chinstrap', 'Gentoo')\n",
    "np.all(df['bayes_predictions'] == likelihood_predictions)"
   ]
  },
  {
   "cell_type": "markdown",
   "id": "6472aa8d",
   "metadata": {},
   "source": [
    "As you may remember from the logit transform in logistic regression, we can also get probabilities from the likelihood ratios, with:"
   ]
  },
  {
   "cell_type": "code",
   "execution_count": null,
   "id": "a9f1d4c4",
   "metadata": {},
   "outputs": [],
   "source": [
    "# Probability from likelihood ratio\n",
    "p_from_lr = likelihood_ratio / (1 + likelihood_ratio)\n",
    "p_from_lr"
   ]
  },
  {
   "cell_type": "markdown",
   "id": "dbbd4ee4",
   "metadata": {},
   "source": [
    "Here is the same process, using the Scikit-learn library."
   ]
  },
  {
   "cell_type": "code",
   "execution_count": null,
   "id": "d14fdda2",
   "metadata": {},
   "outputs": [],
   "source": [
    "from sklearn.naive_bayes import GaussianNB\n",
    "model = GaussianNB()\n",
    "model.fit(df[['body_mass_g']], df['species']);\n",
    "model.class_prior_"
   ]
  },
  {
   "cell_type": "code",
   "execution_count": null,
   "id": "35b3f85f",
   "metadata": {},
   "outputs": [],
   "source": [
    "df['sklearn_predictions'] = model.predict(df[['body_mass_g']])\n",
    "df"
   ]
  },
  {
   "cell_type": "markdown",
   "id": "c735cc95",
   "metadata": {},
   "source": [
    "Scikit-learn gives the same predictions as we do:"
   ]
  },
  {
   "cell_type": "code",
   "execution_count": null,
   "id": "b3d8021b",
   "metadata": {},
   "outputs": [],
   "source": [
    "np.all(df['bayes_predictions'] == df['sklearn_predictions'])"
   ]
  },
  {
   "cell_type": "markdown",
   "id": "04677154",
   "metadata": {},
   "source": [
    "Scikit-learn also calculates the posterior probabilities:"
   ]
  },
  {
   "cell_type": "code",
   "execution_count": null,
   "id": "9e67f660",
   "metadata": {},
   "outputs": [],
   "source": [
    "# The predict_proba values are just the posteriors.\n",
    "skl_posteriors = model.predict_proba(df[['body_mass_g']])\n",
    "# They are the same as ours, with calculation error.\n",
    "our_posteriors = df[['p_c_given_m', 'p_g_given_m']]\n",
    "assert np.allclose(skl_posteriors, our_posteriors)"
   ]
  },
  {
   "cell_type": "markdown",
   "id": "c637483d",
   "metadata": {},
   "source": [
    "The `score` is the proportion of labels we predicted correctly:"
   ]
  },
  {
   "cell_type": "code",
   "execution_count": null,
   "id": "a2b80a42",
   "metadata": {},
   "outputs": [],
   "source": [
    "model.score(df[['body_mass_g']], df['species'])"
   ]
  },
  {
   "cell_type": "markdown",
   "id": "18beb718",
   "metadata": {},
   "source": [
    "Here we calculated the same value by hand(ish):"
   ]
  },
  {
   "cell_type": "code",
   "execution_count": null,
   "id": "7bc732e3",
   "metadata": {},
   "outputs": [],
   "source": [
    "np.mean(df['sklearn_predictions'] == df['species'])"
   ]
  },
  {
   "cell_type": "markdown",
   "id": "565db969",
   "metadata": {},
   "source": [
    "## Putting the naïve into \"naïve Bayes\"\n",
    "\n",
    "Now, let's also consider the `bill_depth_mm` values:"
   ]
  },
  {
   "cell_type": "code",
   "execution_count": null,
   "id": "51cd9fbc",
   "metadata": {},
   "outputs": [],
   "source": [
    "sns.histplot(data=df, x=\"bill_depth_mm\", hue=\"species\")"
   ]
  },
  {
   "cell_type": "markdown",
   "id": "6c0060a2",
   "metadata": {},
   "source": [
    "Make the distributions for bill depth:"
   ]
  },
  {
   "cell_type": "code",
   "execution_count": null,
   "id": "5c2aa67c",
   "metadata": {},
   "outputs": [],
   "source": [
    "bd_by_species = by_species['bill_depth_mm']\n",
    "bd_params = bd_by_species.agg(mean='mean', std=lambda x : np.std(x))\n",
    "# The distributions\n",
    "pd_dists = {}\n",
    "species = ['Chinstrap', 'Gentoo']\n",
    "for name in species:\n",
    "    pd_dists[name] = sps.norm(bd_params.loc[name, 'mean'],\n",
    "                              bd_params.loc[name, 'std'])\n",
    "\n",
    "pd_dists"
   ]
  },
  {
   "cell_type": "markdown",
   "id": "16f8335c",
   "metadata": {},
   "source": [
    "Plot the actual and estimated density, using the Gaussian approximations:"
   ]
  },
  {
   "cell_type": "code",
   "execution_count": null,
   "id": "202a6b7e",
   "metadata": {},
   "outputs": [],
   "source": [
    "fig, axes = plt.subplots(1, 2)\n",
    "for i, name in enumerate(species):\n",
    "    axis = axes[i]\n",
    "    bds = bd_by_species.get_group(name)\n",
    "    x = np.linspace(bds.min(), bds.max(), 1000)\n",
    "    axis.hist(bds, density=True)\n",
    "    axis.plot(x, pd_dists[name].pdf(x), 'r:');\n",
    "    axis.set_title(f'{name} density / est density')"
   ]
  },
  {
   "cell_type": "markdown",
   "id": "e43bbe22",
   "metadata": {},
   "source": [
    "We can also think of these distributions in two dimensions, along with the\n",
    "mass:"
   ]
  },
  {
   "cell_type": "code",
   "execution_count": null,
   "id": "2021c5a5",
   "metadata": {},
   "outputs": [],
   "source": [
    "sns.scatterplot(df, x='body_mass_g', y='bill_depth_mm',\n",
    "                hue='species')"
   ]
  },
  {
   "cell_type": "markdown",
   "id": "ff59b199",
   "metadata": {},
   "source": [
    "Question - is the bill depth *independent* (in the sense of probability) from\n",
    "the body mass?   That is - if I know the body mass, do I know anything more\n",
    "about the bill depth?"
   ]
  },
  {
   "cell_type": "markdown",
   "id": "d52b95e2",
   "metadata": {},
   "source": [
    "For the moment - let's say \"yes\" (it's independent).  That's *naïve*.  And\n",
    "that's where \"naïve\" Bayes reaches the name of the technique."
   ]
  },
  {
   "cell_type": "markdown",
   "id": "18e822ca",
   "metadata": {},
   "source": [
    "Using independence, we can calculate the probability of a *combination* of a particular body mass and bill depth value.\n",
    "\n",
    "Call $P(d)$ the probability of a particular bill depth value.  Naïve Bayes\n",
    "estimates the probability of the combination with:\n",
    "\n",
    "$$\n",
    "P((m \\text{ and } d) | C) = P(m | C) * P(d | C)\n",
    "$$"
   ]
  },
  {
   "cell_type": "markdown",
   "id": "cb57374f",
   "metadata": {},
   "source": [
    "Let's calculate the new probabilities we need:"
   ]
  },
  {
   "cell_type": "code",
   "execution_count": null,
   "id": "94f902aa",
   "metadata": {},
   "outputs": [],
   "source": [
    "df['p_bd_given_c'] = pd_dists['Chinstrap'].pdf(df['bill_depth_mm'])\n",
    "df['p_bd_given_g'] = pd_dists['Gentoo'].pdf(df['bill_depth_mm'])\n",
    "df"
   ]
  },
  {
   "cell_type": "markdown",
   "id": "0a836eac",
   "metadata": {},
   "source": [
    "The full formula for the posterior using the two measures is:\n",
    "\n",
    "$$\n",
    "P(C | (m \\text{ and } d)) = \\frac{\n",
    "P((m \\text{ and } d) | C) * P(C)\n",
    "}{P(m \\text{ and } d)}\n",
    "$$\n",
    "\n",
    "The naïve version of the formula is:\n",
    "\n",
    "$$\n",
    "P(C | (m \\text{ and } d)) = \\frac{\n",
    "P(m | C) * P(d | C) * P(C)\n",
    "}{P(m \\text{ and } d)}\n",
    "$$\n",
    "\n",
    "But - using the likelihood trick above, we no longer have to calculate the\n",
    "denominator, we can just divide it out, to give the following ratio:"
   ]
  },
  {
   "cell_type": "code",
   "execution_count": null,
   "id": "634240dc",
   "metadata": {
    "lines_to_next_cell": 0
   },
   "outputs": [],
   "source": [
    "both_ratio = ((df['p_m_given_c'] * df['p_bd_given_c'] * df['p_chinstrap']) /\n",
    "              (df['p_m_given_g'] * df['p_bd_given_g'] * df['p_gentoo']))\n",
    "df['both_predictions'] = np.where(both_ratio > 1, 'Chinstrap', 'Gentoo')\n",
    "df"
   ]
  },
  {
   "cell_type": "markdown",
   "id": "7c298476",
   "metadata": {},
   "source": [
    "Accuracy:"
   ]
  },
  {
   "cell_type": "code",
   "execution_count": null,
   "id": "5cab1a9a",
   "metadata": {},
   "outputs": [],
   "source": [
    "np.mean(df['both_predictions'] == df['species'])"
   ]
  },
  {
   "cell_type": "markdown",
   "id": "1379b0c3",
   "metadata": {},
   "source": [
    "Scikit learn:"
   ]
  },
  {
   "cell_type": "code",
   "execution_count": null,
   "id": "837e5a66",
   "metadata": {},
   "outputs": [],
   "source": [
    "both_model = GaussianNB()\n",
    "both_model.fit(df[['body_mass_g', 'bill_depth_mm']], df['species'])"
   ]
  },
  {
   "cell_type": "code",
   "execution_count": null,
   "id": "ffb3756e",
   "metadata": {},
   "outputs": [],
   "source": [
    "both_model.score(df[['body_mass_g', 'bill_depth_mm']], df['species'])"
   ]
  },
  {
   "cell_type": "markdown",
   "id": "37c7b199",
   "metadata": {},
   "source": [
    "Let's try the standard test-train split.  We \"train\" our classifier using a random subset of the data:"
   ]
  },
  {
   "cell_type": "code",
   "execution_count": null,
   "id": "781adcd0",
   "metadata": {},
   "outputs": [],
   "source": [
    "from sklearn.model_selection import train_test_split\n",
    "\n",
    "X_train, X_test, y_train, y_test = train_test_split(\n",
    "    df[['body_mass_g', 'bill_depth_mm']],\n",
    "    df['species'])\n",
    "X_train"
   ]
  },
  {
   "cell_type": "markdown",
   "id": "0d90141b",
   "metadata": {},
   "source": [
    "Here we fit the various parameters to classify the training data."
   ]
  },
  {
   "cell_type": "code",
   "execution_count": null,
   "id": "d37a9d71",
   "metadata": {},
   "outputs": [],
   "source": [
    "test_model = GaussianNB()\n",
    "test_model.fit(X_train, y_train)"
   ]
  },
  {
   "cell_type": "markdown",
   "id": "8425a498",
   "metadata": {},
   "source": [
    "How does Scikit-learn do in classifying the test data (that it has not seen\n",
    "before):"
   ]
  },
  {
   "cell_type": "code",
   "execution_count": null,
   "id": "4dca10a2",
   "metadata": {},
   "outputs": [],
   "source": [
    "test_model.score(X_test, y_test)"
   ]
  },
  {
   "cell_type": "markdown",
   "id": "635842f7",
   "metadata": {},
   "source": [
    "We can look at the *decision boundary* to see where the model starts seeing\n",
    "Chinstrap and Gentoo penguins, as it moves through the 2D space of parameters\n",
    "(mass and bill depth)."
   ]
  },
  {
   "cell_type": "code",
   "execution_count": null,
   "id": "7fe3b71f",
   "metadata": {},
   "outputs": [],
   "source": [
    "# Make grid of points to classify\n",
    "all_params = df[['body_mass_g', 'bill_depth_mm']].describe()\n",
    "bm_x = np.linspace(all_params.loc['min', 'body_mass_g'],\n",
    "                   all_params.loc['max', 'body_mass_g'],\n",
    "                   50)\n",
    "bm_y = np.linspace(all_params.loc['min', 'bill_depth_mm'],\n",
    "                   all_params.loc['max', 'bill_depth_mm'],\n",
    "                   50)\n",
    "x, y = np.meshgrid(bm_x, bm_y)\n",
    "xy = np.stack((x.ravel(), y.ravel()), axis=1)\n",
    "xy_df = pd.DataFrame(xy, columns=X_test.columns)"
   ]
  },
  {
   "cell_type": "code",
   "execution_count": null,
   "id": "95878650",
   "metadata": {},
   "outputs": [],
   "source": [
    "# Show the classification of the test data.\n",
    "sns.scatterplot(df.loc[X_test.index],\n",
    "                x='body_mass_g', y='bill_depth_mm',\n",
    "                hue='species')\n",
    "# Overlay the classification of the grid points.\n",
    "sns.scatterplot(x=xy[:, 0], y=xy[:, 1],\n",
    "                hue=test_model.predict(xy_df),\n",
    "                palette=sns.color_palette()[:2],\n",
    "                alpha=0.2);"
   ]
  },
  {
   "cell_type": "markdown",
   "id": "94356cc1",
   "metadata": {},
   "source": [
    "> # Exercises\n",
    "> 1. Reload the `ckd.csv` dataset that we used last week and run basic EDA plots\n",
    "> 2. Implement a KNN classifier and a Naive Bayes classifier on the data\n",
    "> 3. Compare performance of the two classifiers. Which performance metric did you use? Why? \n",
    "> 4. Perform feature scaling on the dataset and re-evaluate the performance of both classifiers\n",
    "> 5. Implement a decision tree classifier and compare its performance with KNN and Naive Bayes\n",
    "> 6. Perform hyperparameter tuning for the KNN classifier using GridSearchCV\n",
    "> 7. Visualise the decision boundary for the KNN classifier\n",
    "> 8. Create a confusion matrix for each classifier and interpret the results"
   ]
  },
  {
   "cell_type": "markdown",
   "id": "b6ff78b1",
   "metadata": {},
   "source": []
  }
 ],
 "metadata": {
  "jupytext": {
   "formats": "Rmd,ipynb",
   "notebook_metadata_filter": "all,-language_info",
   "split_at_heading": true
  },
  "kernelspec": {
   "display_name": "venv",
   "language": "python",
   "name": "python3"
  },
  "language_info": {
   "codemirror_mode": {
    "name": "ipython",
    "version": 3
   },
   "file_extension": ".py",
   "mimetype": "text/x-python",
   "name": "python",
   "nbconvert_exporter": "python",
   "pygments_lexer": "ipython3",
   "version": "3.9.6"
  }
 },
 "nbformat": 4,
 "nbformat_minor": 5
}
